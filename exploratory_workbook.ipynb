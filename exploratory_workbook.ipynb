{
 "cells": [
  {
   "cell_type": "code",
   "execution_count": 1,
   "id": "fdfc2d67",
   "metadata": {},
   "outputs": [],
   "source": [
    "import warnings\n",
    "warnings.filterwarnings(\"ignore\")\n",
    "from env import host, user, password\n",
    "import numpy as np\n",
    "import seaborn as sns\n",
    "import pandas as pd\n",
    "import matplotlib.pyplot as plt\n",
    "import scipy.stats as stats\n",
    "from sklearn.preprocessing import LabelEncoder, StandardScaler\n",
    "from sklearn.feature_selection import chi2, SelectKBest\n",
    "from sklearn.model_selection import train_test_split\n",
    "from sklearn.ensemble import RandomForestClassifier\n",
    "from sklearn.tree import DecisionTreeClassifier, plot_tree, export_text, export_graphviz\n",
    "from sklearn.metrics import classification_report, confusion_matrix\n",
    "from sklearn.neighbors import KNeighborsClassifier\n",
    "from sklearn.linear_model import LogisticRegression\n",
    "import os\n",
    "import acquire\n",
    "import prepare"
   ]
  },
  {
   "cell_type": "code",
   "execution_count": 2,
   "id": "8e14dbb5",
   "metadata": {},
   "outputs": [],
   "source": [
    "# Acquire Data\n",
    "df = acquire.get_telco_db('telco_churn')"
   ]
  },
  {
   "cell_type": "code",
   "execution_count": 3,
   "id": "bad15ec9",
   "metadata": {},
   "outputs": [
    {
     "data": {
      "text/html": [
       "<div>\n",
       "<style scoped>\n",
       "    .dataframe tbody tr th:only-of-type {\n",
       "        vertical-align: middle;\n",
       "    }\n",
       "\n",
       "    .dataframe tbody tr th {\n",
       "        vertical-align: top;\n",
       "    }\n",
       "\n",
       "    .dataframe thead th {\n",
       "        text-align: right;\n",
       "    }\n",
       "</style>\n",
       "<table border=\"1\" class=\"dataframe\">\n",
       "  <thead>\n",
       "    <tr style=\"text-align: right;\">\n",
       "      <th></th>\n",
       "      <th>payment_type_id</th>\n",
       "      <th>contract_type_id</th>\n",
       "      <th>internet_service_type_id</th>\n",
       "      <th>customer_id</th>\n",
       "      <th>gender</th>\n",
       "      <th>senior_citizen</th>\n",
       "      <th>partner</th>\n",
       "      <th>dependents</th>\n",
       "      <th>tenure</th>\n",
       "      <th>phone_service</th>\n",
       "      <th>...</th>\n",
       "      <th>tech_support</th>\n",
       "      <th>streaming_tv</th>\n",
       "      <th>streaming_movies</th>\n",
       "      <th>paperless_billing</th>\n",
       "      <th>monthly_charges</th>\n",
       "      <th>total_charges</th>\n",
       "      <th>churn</th>\n",
       "      <th>internet_service_type</th>\n",
       "      <th>contract_type</th>\n",
       "      <th>payment_type</th>\n",
       "    </tr>\n",
       "  </thead>\n",
       "  <tbody>\n",
       "    <tr>\n",
       "      <th>0</th>\n",
       "      <td>2</td>\n",
       "      <td>1</td>\n",
       "      <td>3</td>\n",
       "      <td>0030-FNXPP</td>\n",
       "      <td>Female</td>\n",
       "      <td>0</td>\n",
       "      <td>No</td>\n",
       "      <td>No</td>\n",
       "      <td>3</td>\n",
       "      <td>Yes</td>\n",
       "      <td>...</td>\n",
       "      <td>No internet service</td>\n",
       "      <td>No internet service</td>\n",
       "      <td>No internet service</td>\n",
       "      <td>No</td>\n",
       "      <td>19.85</td>\n",
       "      <td>57.2</td>\n",
       "      <td>No</td>\n",
       "      <td>None</td>\n",
       "      <td>Month-to-month</td>\n",
       "      <td>Mailed check</td>\n",
       "    </tr>\n",
       "    <tr>\n",
       "      <th>1</th>\n",
       "      <td>2</td>\n",
       "      <td>1</td>\n",
       "      <td>3</td>\n",
       "      <td>0031-PVLZI</td>\n",
       "      <td>Female</td>\n",
       "      <td>0</td>\n",
       "      <td>Yes</td>\n",
       "      <td>Yes</td>\n",
       "      <td>4</td>\n",
       "      <td>Yes</td>\n",
       "      <td>...</td>\n",
       "      <td>No internet service</td>\n",
       "      <td>No internet service</td>\n",
       "      <td>No internet service</td>\n",
       "      <td>No</td>\n",
       "      <td>20.35</td>\n",
       "      <td>76.35</td>\n",
       "      <td>Yes</td>\n",
       "      <td>None</td>\n",
       "      <td>Month-to-month</td>\n",
       "      <td>Mailed check</td>\n",
       "    </tr>\n",
       "    <tr>\n",
       "      <th>2</th>\n",
       "      <td>1</td>\n",
       "      <td>1</td>\n",
       "      <td>3</td>\n",
       "      <td>0098-BOWSO</td>\n",
       "      <td>Male</td>\n",
       "      <td>0</td>\n",
       "      <td>No</td>\n",
       "      <td>No</td>\n",
       "      <td>27</td>\n",
       "      <td>Yes</td>\n",
       "      <td>...</td>\n",
       "      <td>No internet service</td>\n",
       "      <td>No internet service</td>\n",
       "      <td>No internet service</td>\n",
       "      <td>Yes</td>\n",
       "      <td>19.40</td>\n",
       "      <td>529.8</td>\n",
       "      <td>No</td>\n",
       "      <td>None</td>\n",
       "      <td>Month-to-month</td>\n",
       "      <td>Electronic check</td>\n",
       "    </tr>\n",
       "    <tr>\n",
       "      <th>3</th>\n",
       "      <td>1</td>\n",
       "      <td>1</td>\n",
       "      <td>3</td>\n",
       "      <td>0107-WESLM</td>\n",
       "      <td>Male</td>\n",
       "      <td>0</td>\n",
       "      <td>No</td>\n",
       "      <td>No</td>\n",
       "      <td>1</td>\n",
       "      <td>Yes</td>\n",
       "      <td>...</td>\n",
       "      <td>No internet service</td>\n",
       "      <td>No internet service</td>\n",
       "      <td>No internet service</td>\n",
       "      <td>Yes</td>\n",
       "      <td>19.85</td>\n",
       "      <td>19.85</td>\n",
       "      <td>Yes</td>\n",
       "      <td>None</td>\n",
       "      <td>Month-to-month</td>\n",
       "      <td>Electronic check</td>\n",
       "    </tr>\n",
       "    <tr>\n",
       "      <th>4</th>\n",
       "      <td>3</td>\n",
       "      <td>1</td>\n",
       "      <td>3</td>\n",
       "      <td>0114-RSRRW</td>\n",
       "      <td>Female</td>\n",
       "      <td>0</td>\n",
       "      <td>Yes</td>\n",
       "      <td>No</td>\n",
       "      <td>10</td>\n",
       "      <td>Yes</td>\n",
       "      <td>...</td>\n",
       "      <td>No internet service</td>\n",
       "      <td>No internet service</td>\n",
       "      <td>No internet service</td>\n",
       "      <td>Yes</td>\n",
       "      <td>19.95</td>\n",
       "      <td>187.75</td>\n",
       "      <td>No</td>\n",
       "      <td>None</td>\n",
       "      <td>Month-to-month</td>\n",
       "      <td>Bank transfer (automatic)</td>\n",
       "    </tr>\n",
       "  </tbody>\n",
       "</table>\n",
       "<p>5 rows × 24 columns</p>\n",
       "</div>"
      ],
      "text/plain": [
       "   payment_type_id  contract_type_id  internet_service_type_id customer_id  \\\n",
       "0                2                 1                         3  0030-FNXPP   \n",
       "1                2                 1                         3  0031-PVLZI   \n",
       "2                1                 1                         3  0098-BOWSO   \n",
       "3                1                 1                         3  0107-WESLM   \n",
       "4                3                 1                         3  0114-RSRRW   \n",
       "\n",
       "   gender  senior_citizen partner dependents  tenure phone_service  ...  \\\n",
       "0  Female               0      No         No       3           Yes  ...   \n",
       "1  Female               0     Yes        Yes       4           Yes  ...   \n",
       "2    Male               0      No         No      27           Yes  ...   \n",
       "3    Male               0      No         No       1           Yes  ...   \n",
       "4  Female               0     Yes         No      10           Yes  ...   \n",
       "\n",
       "          tech_support         streaming_tv     streaming_movies  \\\n",
       "0  No internet service  No internet service  No internet service   \n",
       "1  No internet service  No internet service  No internet service   \n",
       "2  No internet service  No internet service  No internet service   \n",
       "3  No internet service  No internet service  No internet service   \n",
       "4  No internet service  No internet service  No internet service   \n",
       "\n",
       "  paperless_billing monthly_charges total_charges churn internet_service_type  \\\n",
       "0                No           19.85          57.2    No                  None   \n",
       "1                No           20.35         76.35   Yes                  None   \n",
       "2               Yes           19.40         529.8    No                  None   \n",
       "3               Yes           19.85         19.85   Yes                  None   \n",
       "4               Yes           19.95        187.75    No                  None   \n",
       "\n",
       "    contract_type               payment_type  \n",
       "0  Month-to-month               Mailed check  \n",
       "1  Month-to-month               Mailed check  \n",
       "2  Month-to-month           Electronic check  \n",
       "3  Month-to-month           Electronic check  \n",
       "4  Month-to-month  Bank transfer (automatic)  \n",
       "\n",
       "[5 rows x 24 columns]"
      ]
     },
     "execution_count": 3,
     "metadata": {},
     "output_type": "execute_result"
    }
   ],
   "source": [
    "df.head()"
   ]
  },
  {
   "cell_type": "code",
   "execution_count": 4,
   "id": "d9d134ed",
   "metadata": {},
   "outputs": [
    {
     "data": {
      "text/plain": [
       "Index(['payment_type_id', 'contract_type_id', 'internet_service_type_id',\n",
       "       'customer_id', 'gender', 'senior_citizen', 'partner', 'dependents',\n",
       "       'tenure', 'phone_service', 'multiple_lines', 'online_security',\n",
       "       'online_backup', 'device_protection', 'tech_support', 'streaming_tv',\n",
       "       'streaming_movies', 'paperless_billing', 'monthly_charges',\n",
       "       'total_charges', 'churn', 'internet_service_type', 'contract_type',\n",
       "       'payment_type'],\n",
       "      dtype='object')"
      ]
     },
     "execution_count": 4,
     "metadata": {},
     "output_type": "execute_result"
    }
   ],
   "source": [
    "df.columns"
   ]
  },
  {
   "cell_type": "code",
   "execution_count": 5,
   "id": "2bece6a4",
   "metadata": {},
   "outputs": [
    {
     "data": {
      "text/plain": [
       "<AxesSubplot:xlabel='churn', ylabel='count'>"
      ]
     },
     "execution_count": 5,
     "metadata": {},
     "output_type": "execute_result"
    },
    {
     "data": {
      "image/png": "[encoded data removed]",
      "text/plain": [
       "<Figure size 432x288 with 1 Axes>"
      ]
     },
     "metadata": {
      "needs_background": "light"
     },
     "output_type": "display_data"
    }
   ],
   "source": [
    "# Visualizing Churn\n",
    "sns.countplot(df['churn'])"
   ]
  },
  {
   "cell_type": "code",
   "execution_count": 9,
   "id": "7d672b7e",
   "metadata": {},
   "outputs": [
    {
     "name": "stdout",
     "output_type": "stream",
     "text": [
      "73.42150170648463 % of customers stayed with the company\n",
      "26.578498293515356 % of customers left the company\n"
     ]
    }
   ],
   "source": [
    "# Get percentages of churned and not churned\n",
    "\n",
    "not_churned = df[df['churn']=='No']\n",
    "churned = df[df['churn']=='Yes']\n",
    "\n",
    "print(len(not_churned)/(len(churned)+len(not_churned)) * 100, '% of customers stayed with the company')\n",
    "print(len(churned)/(len(churned)+len(not_churned)) * 100, '% of customers left the company')"
   ]
  },
  {
   "cell_type": "code",
   "execution_count": 10,
   "id": "b61ce1f6",
   "metadata": {},
   "outputs": [
    {
     "data": {
      "text/plain": [
       "<AxesSubplot:xlabel='internet_service_type', ylabel='count'>"
      ]
     },
     "execution_count": 10,
     "metadata": {},
     "output_type": "execute_result"
    },
    {
     "data": {
      "image/png": "[encoded data removed]",
      "text/plain": [
       "<Figure size 432x288 with 1 Axes>"
      ]
     },
     "metadata": {
      "needs_background": "light"
     },
     "output_type": "display_data"
    }
   ],
   "source": [
    "# Visualizing Churn by internet_service_type\n",
    "\n",
    "sns.countplot(x='internet_service_type', hue='churn', data=df)"
   ]
  },
  {
   "cell_type": "code",
   "execution_count": 11,
   "id": "11653e6e",
   "metadata": {},
   "outputs": [
    {
     "data": {
      "text/plain": [
       "array([<AxesSubplot:title={'center':'tenure'}>,\n",
       "       <AxesSubplot:title={'center':'monthly_charges'}>], dtype=object)"
      ]
     },
     "execution_count": 11,
     "metadata": {},
     "output_type": "execute_result"
    },
    {
     "data": {
      "image/png": "[encoded data removed]",
      "text/plain": [
       "<Figure size 2016x576 with 2 Axes>"
      ]
     },
     "metadata": {
      "needs_background": "light"
     },
     "output_type": "display_data"
    }
   ],
   "source": [
    "# Visualizing churn based on tenure and monthly_charges\n",
    "\n",
    "features = ['tenure','monthly_charges']\n",
    "fig, ax = plt.subplots(1, 2, figsize=(28,8))\n",
    "not_churned[features].hist(bins=20, color='blue', alpha=0.5, ax = ax)\n",
    "churned[features].hist(bins=20, color='orange', alpha=0.5, ax = ax)\n"
   ]
  },
  {
   "cell_type": "code",
   "execution_count": null,
   "id": "875b3b60",
   "metadata": {},
   "outputs": [],
   "source": [
    "# Drop customer_id\n",
    "\n",
    "df = df.drop(['customer_id','payment_type_id','contract_type_id','internet_service_type_id','online_backup','device_protection','tech_support','streaming_tv','streaming_movies'], axis = 1)"
   ]
  },
  {
   "cell_type": "code",
   "execution_count": 6,
   "id": "87bd5f02",
   "metadata": {},
   "outputs": [],
   "source": [
    "# Drop empty total row charges\n",
    "\n",
    "df.drop(df[df['total_charges'].str.contains(\" \")].index, inplace = True)"
   ]
  },
  {
   "cell_type": "code",
   "execution_count": null,
   "id": "e2d8e729",
   "metadata": {},
   "outputs": [],
   "source": [
    "df.shape"
   ]
  },
  {
   "cell_type": "code",
   "execution_count": null,
   "id": "a45c936d",
   "metadata": {},
   "outputs": [],
   "source": [
    "sns.countplot(x='online_security', hue='churn', data=df)"
   ]
  },
  {
   "cell_type": "code",
   "execution_count": 7,
   "id": "577a767b",
   "metadata": {},
   "outputs": [
    {
     "data": {
      "text/plain": [
       "<AxesSubplot:xlabel='total_charges', ylabel='count'>"
      ]
     },
     "execution_count": 7,
     "metadata": {},
     "output_type": "execute_result"
    },
    {
     "data": {
      "image/png": "[encoded data removed]",
      "text/plain": [
       "<Figure size 432x288 with 1 Axes>"
      ]
     },
     "metadata": {
      "needs_background": "light"
     },
     "output_type": "display_data"
    }
   ],
   "source": [
    "sns.countplot(x='total_charges', hue='churn', data=df)"
   ]
  },
  {
   "cell_type": "code",
   "execution_count": null,
   "id": "a2c0bf66",
   "metadata": {},
   "outputs": [],
   "source": [
    "df.online_security.value_counts()"
   ]
  },
  {
   "cell_type": "code",
   "execution_count": null,
   "id": "762c6e51",
   "metadata": {},
   "outputs": [],
   "source": [
    "no_security = df[df['online_security'] == 'No']\n",
    "no_security.churn.value_counts()"
   ]
  },
  {
   "cell_type": "code",
   "execution_count": null,
   "id": "31e2b2cf",
   "metadata": {},
   "outputs": [],
   "source": [
    "no_security.internet_service_type.value_counts()"
   ]
  },
  {
   "cell_type": "code",
   "execution_count": null,
   "id": "2c3868c2",
   "metadata": {},
   "outputs": [],
   "source": [
    "no_security[no_security['churn']=='Yes'].internet_service_type.value_counts()"
   ]
  },
  {
   "cell_type": "code",
   "execution_count": null,
   "id": "45116082",
   "metadata": {},
   "outputs": [],
   "source": [
    "no_security[no_security['churn']=='No'].internet_service_type.value_counts()"
   ]
  },
  {
   "cell_type": "code",
   "execution_count": null,
   "id": "b7d91f36",
   "metadata": {},
   "outputs": [],
   "source": [
    "fiber = df[df['internet_service_type']=='Fiber optic']"
   ]
  },
  {
   "cell_type": "code",
   "execution_count": null,
   "id": "599d7448",
   "metadata": {},
   "outputs": [],
   "source": [
    "fiber['online_security'].value_counts()"
   ]
  },
  {
   "cell_type": "code",
   "execution_count": null,
   "id": "46d0788b",
   "metadata": {},
   "outputs": [],
   "source": [
    "fiber[fiber['online_security']=='No'].churn.value_counts()"
   ]
  },
  {
   "cell_type": "code",
   "execution_count": null,
   "id": "8cda0317",
   "metadata": {},
   "outputs": [],
   "source": [
    "fiber[fiber['online_security']=='Yes'].churn.value_counts()"
   ]
  },
  {
   "cell_type": "code",
   "execution_count": null,
   "id": "822bfd5a",
   "metadata": {},
   "outputs": [],
   "source": []
  },
  {
   "cell_type": "code",
   "execution_count": null,
   "id": "7bb27f3c",
   "metadata": {},
   "outputs": [],
   "source": [
    "# Convert non-numeric columns to numeric\n",
    "\n",
    "for column in df.columns:\n",
    "    if df[column].dtype == np.number:\n",
    "        continue\n",
    "    df[column] = LabelEncoder().fit_transform(df[column])"
   ]
  },
  {
   "cell_type": "code",
   "execution_count": null,
   "id": "e5beb811",
   "metadata": {},
   "outputs": [],
   "source": [
    "df.dtypes"
   ]
  },
  {
   "cell_type": "code",
   "execution_count": null,
   "id": "d39b4938",
   "metadata": {},
   "outputs": [],
   "source": [
    "df.contract_type.value_counts()"
   ]
  },
  {
   "cell_type": "code",
   "execution_count": null,
   "id": "5e169cc3",
   "metadata": {},
   "outputs": [],
   "source": [
    "df.internet_service_type.value_counts()"
   ]
  },
  {
   "cell_type": "code",
   "execution_count": null,
   "id": "72d2733f",
   "metadata": {},
   "outputs": [],
   "source": [
    "df.internet_service_type.value_counts()"
   ]
  },
  {
   "cell_type": "code",
   "execution_count": null,
   "id": "e60985ac",
   "metadata": {},
   "outputs": [],
   "source": [
    "df.online_security.value_counts()"
   ]
  },
  {
   "cell_type": "code",
   "execution_count": null,
   "id": "3f190c79",
   "metadata": {},
   "outputs": [],
   "source": [
    "df.churn.value_counts()"
   ]
  },
  {
   "cell_type": "code",
   "execution_count": null,
   "id": "6f8858e2",
   "metadata": {},
   "outputs": [],
   "source": [
    "def train_validate_test_split(df, target, seed=123):\n",
    "    '''\n",
    "    This function takes in a dataframe, the name of the target variable\n",
    "    (for stratification purposes), and an integer for a setting a seed\n",
    "    and splits the data into train, validate and test. \n",
    "    Test is 20% of the original dataset, validate is .30*.80= 24% of the \n",
    "    original dataset, and train is .70*.80= 56% of the original dataset. \n",
    "    The function returns, in this order, train, validate and test dataframes. \n",
    "    '''\n",
    "    train_validate, test = train_test_split(df, test_size=0.2, \n",
    "                                            random_state=seed, \n",
    "                                            stratify=df[target])\n",
    "    train, validate = train_test_split(train_validate, test_size=0.3, \n",
    "                                       random_state=seed,\n",
    "                                       stratify=train_validate[target])\n",
    "    return train, validate, test"
   ]
  },
  {
   "cell_type": "code",
   "execution_count": null,
   "id": "9c19879f",
   "metadata": {},
   "outputs": [],
   "source": [
    "train, validate, test = train_validate_test_split(df, target='churn', seed=123)"
   ]
  },
  {
   "cell_type": "code",
   "execution_count": null,
   "id": "ae834655",
   "metadata": {},
   "outputs": [],
   "source": [
    "# Split the data\n",
    "X_train = train.drop(columns=['churn'])\n",
    "y_train = train.churn\n",
    "\n",
    "X_validate = validate.drop(columns=['churn'])\n",
    "y_validate = validate.churn\n",
    "\n",
    "X_test = test.drop(columns=['churn'])\n",
    "y_test = test.churn"
   ]
  },
  {
   "cell_type": "markdown",
   "id": "27daf2ba",
   "metadata": {},
   "source": [
    "### Hypothesis testing"
   ]
  },
  {
   "cell_type": "code",
   "execution_count": null,
   "id": "86e072bd",
   "metadata": {},
   "outputs": [],
   "source": [
    "alpha = .05"
   ]
  },
  {
   "cell_type": "markdown",
   "id": "f3d08d25",
   "metadata": {},
   "source": [
    "#### Is there a correlation between month-to-month contracts and churn?\n",
    "\"$H_0$ = Churn is independent of month-to-month contracts\"\n",
    "\n",
    "\"$H_a$ = Month-to-month contracts and churn are dependent on each other.\""
   ]
  },
  {
   "cell_type": "code",
   "execution_count": null,
   "id": "d46cbcf2",
   "metadata": {},
   "outputs": [],
   "source": [
    "observed = pd.crosstab(train['churn'], train['contract_type'])\n",
    "chi2, p, degf, expected = stats.chi2_contingency(observed)\n",
    "\n",
    "print(f\"p value is less than alpha:  {p < alpha}\")"
   ]
  },
  {
   "cell_type": "markdown",
   "id": "ddb2a902",
   "metadata": {},
   "source": [
    "#### Is there a correlation between fiber and churn\n",
    "\"$H_0$ = Churn is independent of fiber service.\"\n",
    "\n",
    "\"$H_a$ = Fiber service and churn are dependent on each other.\""
   ]
  },
  {
   "cell_type": "code",
   "execution_count": null,
   "id": "0c0340cd",
   "metadata": {},
   "outputs": [],
   "source": [
    "observed = pd.crosstab(train.churn, train.internet_service_type)\n",
    "chi2, p, degf, expected = stats.chi2_contingency(observed)\n",
    "\n",
    "print(f\"p value is less than alpha:  {p < alpha}\")"
   ]
  },
  {
   "cell_type": "code",
   "execution_count": null,
   "id": "c359b31f",
   "metadata": {},
   "outputs": [],
   "source": [
    "train.columns"
   ]
  },
  {
   "cell_type": "code",
   "execution_count": null,
   "id": "ed1d6c5a",
   "metadata": {},
   "outputs": [],
   "source": [
    "sns.heatmap(train.corr(), cmap='mako', center=0)"
   ]
  },
  {
   "cell_type": "code",
   "execution_count": null,
   "id": "d6b6cc13",
   "metadata": {},
   "outputs": [],
   "source": []
  },
  {
   "cell_type": "code",
   "execution_count": null,
   "id": "24c207e3",
   "metadata": {},
   "outputs": [],
   "source": [
    "X_train.columns"
   ]
  },
  {
   "cell_type": "markdown",
   "id": "b010d754",
   "metadata": {},
   "source": [
    "### Model 1"
   ]
  },
  {
   "cell_type": "code",
   "execution_count": null,
   "id": "71047224",
   "metadata": {},
   "outputs": [],
   "source": [
    "# Create model\n",
    "logit = LogisticRegression(C=1, random_state=123)\n",
    "# Train model\n",
    "logit.fit(X_train, y_train)"
   ]
  },
  {
   "cell_type": "code",
   "execution_count": null,
   "id": "719a225e",
   "metadata": {},
   "outputs": [],
   "source": [
    "def column_list(X_train):\n",
    "    list = []\n",
    "    for column in X_train.columns:\n",
    "        list.append(column)\n",
    "    return list\n",
    "\n",
    "column_list(X_train)"
   ]
  },
  {
   "cell_type": "code",
   "execution_count": null,
   "id": "44e9ceb4",
   "metadata": {},
   "outputs": [],
   "source": [
    "# Feature Importance\n",
    "print('Coefficient: \\n', logit.coef_)\n",
    "print('Intercept: \\n', logit.intercept_)"
   ]
  },
  {
   "cell_type": "code",
   "execution_count": null,
   "id": "5681dbd0",
   "metadata": {},
   "outputs": [],
   "source": [
    "coef_list = logit.coef_.tolist()"
   ]
  },
  {
   "cell_type": "code",
   "execution_count": null,
   "id": "00db67dd",
   "metadata": {},
   "outputs": [],
   "source": [
    "\n",
    "def coef_list(coef_list):\n",
    "    list = []\n",
    "    for item in coef_list:\n",
    "        for items in item:\n",
    "            list.append(items)\n",
    "    return list\n",
    "\n",
    "coef_list(logit.coef_.tolist())"
   ]
  },
  {
   "cell_type": "code",
   "execution_count": null,
   "id": "7791f019",
   "metadata": {},
   "outputs": [],
   "source": [
    "column_importance = pd.DataFrame()\n",
    "column_importance['Columns'] = column_list(X_train)\n",
    "column_importance['Coeff'] = coef_list(logit.coef_.tolist())\n",
    "\n",
    "column_importance"
   ]
  },
  {
   "cell_type": "code",
   "execution_count": null,
   "id": "5186e032",
   "metadata": {},
   "outputs": [],
   "source": [
    "column_importance.Coeff.abs().sort_values()"
   ]
  },
  {
   "cell_type": "code",
   "execution_count": null,
   "id": "afc8ec78",
   "metadata": {},
   "outputs": [],
   "source": []
  },
  {
   "cell_type": "code",
   "execution_count": null,
   "id": "6d38e4ec",
   "metadata": {},
   "outputs": [],
   "source": [
    "# monthly_charges and tenure are the top two important features, followed by contract_type"
   ]
  },
  {
   "cell_type": "code",
   "execution_count": null,
   "id": "29827172",
   "metadata": {},
   "outputs": [],
   "source": [
    "# Create predictions\n",
    "y_pred = logit.predict(X_train)\n",
    "\n",
    "print(y_pred)"
   ]
  },
  {
   "cell_type": "code",
   "execution_count": null,
   "id": "1ca9b90c",
   "metadata": {},
   "outputs": [],
   "source": [
    "y_pred_proba = logit.predict_proba(X_train)\n",
    "\n",
    "print(y_pred_proba)"
   ]
  },
  {
   "cell_type": "code",
   "execution_count": null,
   "id": "46054bbf",
   "metadata": {},
   "outputs": [],
   "source": [
    "print('Accuracy of Logistic Regression classifier on training set: {:.2f}'\n",
    "     .format(logit.score(X_train, y_train)))"
   ]
  },
  {
   "cell_type": "code",
   "execution_count": null,
   "id": "47af1835",
   "metadata": {},
   "outputs": [],
   "source": [
    "print(confusion_matrix(y_train, y_pred))\n"
   ]
  },
  {
   "cell_type": "code",
   "execution_count": null,
   "id": "961c0cb1",
   "metadata": {},
   "outputs": [],
   "source": [
    "# Check precision, recall, f1-score\n",
    "print(classification_report(y_train, y_pred))"
   ]
  },
  {
   "cell_type": "code",
   "execution_count": null,
   "id": "1b05edf2",
   "metadata": {},
   "outputs": [],
   "source": [
    "# Validate\n",
    "\n",
    "y_pred1 = logit.predict(X_validate)\n",
    "\n",
    "print(\"Model 1: solver = lbfgs, c = 1\")\n",
    "\n",
    "# accuracy of model 1\n",
    "print('Accuracy: {:.2f}'.format(logit.score(X_validate, y_validate)))\n",
    "\n",
    "# confusion matrix of model 1\n",
    "print(confusion_matrix(y_validate, y_pred1))\n",
    "\n",
    "# classification report of model 1\n",
    "print(classification_report(y_validate, y_pred1))\n"
   ]
  },
  {
   "cell_type": "code",
   "execution_count": null,
   "id": "e63d5511",
   "metadata": {},
   "outputs": [],
   "source": [
    "# Test\n",
    "\n",
    "y_pred = logit.predict(X_test)\n",
    "y_pred_proba = logit.predict_proba(X_test)\n",
    "\n",
    "print(\"Model 1: solver = lbfgs, c = 1\")\n",
    "\n",
    "print('Accuracy: {:.2f}'.format(logit.score(X_test, y_test)))\n",
    "\n",
    "print(confusion_matrix(y_test, y_pred))\n",
    "\n",
    "print(classification_report(y_test, y_pred))"
   ]
  },
  {
   "cell_type": "markdown",
   "id": "5b588c84",
   "metadata": {},
   "source": [
    "### Model 2 (Logistic Regression with less columns)"
   ]
  },
  {
   "cell_type": "code",
   "execution_count": null,
   "id": "59605435",
   "metadata": {},
   "outputs": [],
   "source": [
    "df.columns"
   ]
  },
  {
   "cell_type": "code",
   "execution_count": null,
   "id": "c9337444",
   "metadata": {},
   "outputs": [],
   "source": [
    "train, validate, test = train_validate_test_split(df, target='churn', seed=123)"
   ]
  },
  {
   "cell_type": "code",
   "execution_count": null,
   "id": "c6601f07",
   "metadata": {},
   "outputs": [],
   "source": [
    "# Split the data\n",
    "X_train = train.drop(columns=['gender','senior_citizen','partner','dependents','phone_service','multiple_lines','online_security','paperless_billing','total_charges','churn','internet_service_type','payment_type'])\n",
    "y_train = train.churn\n",
    "\n",
    "X_validate = validate.drop(columns=['gender','senior_citizen','partner','dependents','phone_service','multiple_lines','online_security','paperless_billing','total_charges','churn','internet_service_type','payment_type'])\n",
    "y_validate = validate.churn\n",
    "\n",
    "X_test = test.drop(columns=['gender','senior_citizen','partner','dependents','phone_service','multiple_lines','online_security','paperless_billing','total_charges','churn','internet_service_type','payment_type'])\n",
    "y_test = test.churn"
   ]
  },
  {
   "cell_type": "code",
   "execution_count": null,
   "id": "66867d73",
   "metadata": {},
   "outputs": [],
   "source": [
    "# Create model\n",
    "logit = LogisticRegression(C=1,random_state=123)\n",
    "# Train model\n",
    "logit.fit(X_train, y_train)"
   ]
  },
  {
   "cell_type": "code",
   "execution_count": null,
   "id": "7fc05bc3",
   "metadata": {},
   "outputs": [],
   "source": [
    "# Create predictions\n",
    "y_pred = logit.predict(X_train)\n",
    "\n",
    "print(y_pred)"
   ]
  },
  {
   "cell_type": "code",
   "execution_count": null,
   "id": "03c2291a",
   "metadata": {},
   "outputs": [],
   "source": [
    "y_pred_proba = logit.predict_proba(X_train)\n",
    "\n",
    "print(y_pred_proba)"
   ]
  },
  {
   "cell_type": "code",
   "execution_count": null,
   "id": "b6936c14",
   "metadata": {},
   "outputs": [],
   "source": [
    "print('Accuracy of Logistic Regression classifier on training set: {:.2f}'\n",
    "     .format(logit.score(X_train, y_train)))"
   ]
  },
  {
   "cell_type": "code",
   "execution_count": null,
   "id": "ad019461",
   "metadata": {
    "scrolled": true
   },
   "outputs": [],
   "source": [
    "# Check precision, recall, f1-score\n",
    "print(classification_report(y_train, y_pred))"
   ]
  },
  {
   "cell_type": "markdown",
   "id": "0957a2d9",
   "metadata": {},
   "source": [
    "### KNN"
   ]
  },
  {
   "cell_type": "code",
   "execution_count": null,
   "id": "8e5e073b",
   "metadata": {},
   "outputs": [],
   "source": [
    "train, validate, test = train_validate_test_split(df, target='churn', seed=123)\n",
    "# Split the data\n",
    "X_train = train.drop(columns=['churn'])\n",
    "y_train = train.churn\n",
    "\n",
    "X_validate = validate.drop(columns=['churn'])\n",
    "y_validate = validate.churn\n",
    "\n",
    "X_test = test.drop(columns=['churn'])\n",
    "y_test = test.churn"
   ]
  },
  {
   "cell_type": "code",
   "execution_count": null,
   "id": "749e105f",
   "metadata": {},
   "outputs": [],
   "source": [
    "# Create Model\n",
    "\n",
    "knn = KNeighborsClassifier(n_neighbors=5, weights='uniform')\n"
   ]
  },
  {
   "cell_type": "code",
   "execution_count": null,
   "id": "9520a4e8",
   "metadata": {},
   "outputs": [],
   "source": [
    "# Fit Model\n",
    "\n",
    "knn.fit(X_train, y_train)\n"
   ]
  },
  {
   "cell_type": "code",
   "execution_count": null,
   "id": "df0b3ac0",
   "metadata": {},
   "outputs": [],
   "source": [
    "y_pred = knn.predict(X_train)\n"
   ]
  },
  {
   "cell_type": "code",
   "execution_count": null,
   "id": "356ca7f4",
   "metadata": {},
   "outputs": [],
   "source": [
    "y_pred_proba = knn.predict_proba(X_train)\n"
   ]
  },
  {
   "cell_type": "code",
   "execution_count": null,
   "id": "17db51bb",
   "metadata": {},
   "outputs": [],
   "source": [
    "print('Accuracy of KNN classifier on training set: {:.2f}'\n",
    "     .format(knn.score(X_train, y_train)))"
   ]
  },
  {
   "cell_type": "code",
   "execution_count": null,
   "id": "5504f634",
   "metadata": {},
   "outputs": [],
   "source": [
    "print(classification_report(y_train, y_pred))\n"
   ]
  },
  {
   "cell_type": "code",
   "execution_count": null,
   "id": "16d7e69d",
   "metadata": {},
   "outputs": [],
   "source": [
    "knn.fit(X_validate, y_validate)\n"
   ]
  },
  {
   "cell_type": "code",
   "execution_count": null,
   "id": "834df902",
   "metadata": {},
   "outputs": [],
   "source": [
    "print('Accuracy of KNN classifier on training set: {:.2f}'\n",
    "     .format(knn.score(X_validate, y_validate)))"
   ]
  },
  {
   "cell_type": "code",
   "execution_count": null,
   "id": "e1d285f1",
   "metadata": {},
   "outputs": [],
   "source": []
  }
 ],
 "metadata": {
  "kernelspec": {
   "display_name": "Python 3",
   "language": "python",
   "name": "python3"
  },
  "language_info": {
   "codemirror_mode": {
    "name": "ipython",
    "version": 3
   },
   "file_extension": ".py",
   "mimetype": "text/x-python",
   "name": "python",
   "nbconvert_exporter": "python",
   "pygments_lexer": "ipython3",
   "version": "3.8.8"
  }
 },
 "nbformat": 4,
 "nbformat_minor": 5
}
