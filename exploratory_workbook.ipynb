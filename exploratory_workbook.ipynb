{
 "cells": [
  {
   "cell_type": "code",
   "execution_count": 1,
   "id": "fdfc2d67",
   "metadata": {},
   "outputs": [],
   "source": [
    "import warnings\n",
    "warnings.filterwarnings(\"ignore\")\n",
    "from env import host, user, password\n",
    "import numpy as np\n",
    "import seaborn as sns\n",
    "import pandas as pd\n",
    "import matplotlib.pyplot as plt\n",
    "import scipy.stats as stats\n",
    "from sklearn.preprocessing import LabelEncoder, StandardScaler\n",
    "from sklearn.feature_selection import chi2, SelectKBest\n",
    "from sklearn.model_selection import train_test_split\n",
    "from sklearn.ensemble import RandomForestClassifier\n",
    "from sklearn.tree import DecisionTreeClassifier, plot_tree, export_text, export_graphviz\n",
    "from sklearn.metrics import classification_report, confusion_matrix\n",
    "from sklearn.neighbors import KNeighborsClassifier\n",
    "from sklearn.linear_model import LogisticRegression\n",
    "import sklearn\n",
    "import os\n",
    "from acquire import *\n",
    "import prepare"
   ]
  },
  {
   "cell_type": "code",
   "execution_count": 2,
   "id": "8e14dbb5",
   "metadata": {},
   "outputs": [],
   "source": [
    "# Acquire Data\n",
    "df = get_telco_data()"
   ]
  },
  {
   "cell_type": "code",
   "execution_count": 3,
   "id": "bad15ec9",
   "metadata": {},
   "outputs": [
    {
     "data": {
      "text/html": [
       "<div>\n",
       "<style scoped>\n",
       "    .dataframe tbody tr th:only-of-type {\n",
       "        vertical-align: middle;\n",
       "    }\n",
       "\n",
       "    .dataframe tbody tr th {\n",
       "        vertical-align: top;\n",
       "    }\n",
       "\n",
       "    .dataframe thead th {\n",
       "        text-align: right;\n",
       "    }\n",
       "</style>\n",
       "<table border=\"1\" class=\"dataframe\">\n",
       "  <thead>\n",
       "    <tr style=\"text-align: right;\">\n",
       "      <th></th>\n",
       "      <th>payment_type_id</th>\n",
       "      <th>contract_type_id</th>\n",
       "      <th>internet_service_type_id</th>\n",
       "      <th>customer_id</th>\n",
       "      <th>gender</th>\n",
       "      <th>senior_citizen</th>\n",
       "      <th>partner</th>\n",
       "      <th>dependents</th>\n",
       "      <th>tenure</th>\n",
       "      <th>phone_service</th>\n",
       "      <th>...</th>\n",
       "      <th>tech_support</th>\n",
       "      <th>streaming_tv</th>\n",
       "      <th>streaming_movies</th>\n",
       "      <th>paperless_billing</th>\n",
       "      <th>monthly_charges</th>\n",
       "      <th>total_charges</th>\n",
       "      <th>churn</th>\n",
       "      <th>internet_service_type</th>\n",
       "      <th>contract_type</th>\n",
       "      <th>payment_type</th>\n",
       "    </tr>\n",
       "  </thead>\n",
       "  <tbody>\n",
       "    <tr>\n",
       "      <th>0</th>\n",
       "      <td>2</td>\n",
       "      <td>1</td>\n",
       "      <td>3</td>\n",
       "      <td>0030-FNXPP</td>\n",
       "      <td>Female</td>\n",
       "      <td>0</td>\n",
       "      <td>No</td>\n",
       "      <td>No</td>\n",
       "      <td>3</td>\n",
       "      <td>Yes</td>\n",
       "      <td>...</td>\n",
       "      <td>No internet service</td>\n",
       "      <td>No internet service</td>\n",
       "      <td>No internet service</td>\n",
       "      <td>No</td>\n",
       "      <td>19.85</td>\n",
       "      <td>57.2</td>\n",
       "      <td>No</td>\n",
       "      <td>None</td>\n",
       "      <td>Month-to-month</td>\n",
       "      <td>Mailed check</td>\n",
       "    </tr>\n",
       "    <tr>\n",
       "      <th>1</th>\n",
       "      <td>2</td>\n",
       "      <td>1</td>\n",
       "      <td>3</td>\n",
       "      <td>0031-PVLZI</td>\n",
       "      <td>Female</td>\n",
       "      <td>0</td>\n",
       "      <td>Yes</td>\n",
       "      <td>Yes</td>\n",
       "      <td>4</td>\n",
       "      <td>Yes</td>\n",
       "      <td>...</td>\n",
       "      <td>No internet service</td>\n",
       "      <td>No internet service</td>\n",
       "      <td>No internet service</td>\n",
       "      <td>No</td>\n",
       "      <td>20.35</td>\n",
       "      <td>76.35</td>\n",
       "      <td>Yes</td>\n",
       "      <td>None</td>\n",
       "      <td>Month-to-month</td>\n",
       "      <td>Mailed check</td>\n",
       "    </tr>\n",
       "    <tr>\n",
       "      <th>2</th>\n",
       "      <td>1</td>\n",
       "      <td>1</td>\n",
       "      <td>3</td>\n",
       "      <td>0098-BOWSO</td>\n",
       "      <td>Male</td>\n",
       "      <td>0</td>\n",
       "      <td>No</td>\n",
       "      <td>No</td>\n",
       "      <td>27</td>\n",
       "      <td>Yes</td>\n",
       "      <td>...</td>\n",
       "      <td>No internet service</td>\n",
       "      <td>No internet service</td>\n",
       "      <td>No internet service</td>\n",
       "      <td>Yes</td>\n",
       "      <td>19.40</td>\n",
       "      <td>529.8</td>\n",
       "      <td>No</td>\n",
       "      <td>None</td>\n",
       "      <td>Month-to-month</td>\n",
       "      <td>Electronic check</td>\n",
       "    </tr>\n",
       "    <tr>\n",
       "      <th>3</th>\n",
       "      <td>1</td>\n",
       "      <td>1</td>\n",
       "      <td>3</td>\n",
       "      <td>0107-WESLM</td>\n",
       "      <td>Male</td>\n",
       "      <td>0</td>\n",
       "      <td>No</td>\n",
       "      <td>No</td>\n",
       "      <td>1</td>\n",
       "      <td>Yes</td>\n",
       "      <td>...</td>\n",
       "      <td>No internet service</td>\n",
       "      <td>No internet service</td>\n",
       "      <td>No internet service</td>\n",
       "      <td>Yes</td>\n",
       "      <td>19.85</td>\n",
       "      <td>19.85</td>\n",
       "      <td>Yes</td>\n",
       "      <td>None</td>\n",
       "      <td>Month-to-month</td>\n",
       "      <td>Electronic check</td>\n",
       "    </tr>\n",
       "    <tr>\n",
       "      <th>4</th>\n",
       "      <td>3</td>\n",
       "      <td>1</td>\n",
       "      <td>3</td>\n",
       "      <td>0114-RSRRW</td>\n",
       "      <td>Female</td>\n",
       "      <td>0</td>\n",
       "      <td>Yes</td>\n",
       "      <td>No</td>\n",
       "      <td>10</td>\n",
       "      <td>Yes</td>\n",
       "      <td>...</td>\n",
       "      <td>No internet service</td>\n",
       "      <td>No internet service</td>\n",
       "      <td>No internet service</td>\n",
       "      <td>Yes</td>\n",
       "      <td>19.95</td>\n",
       "      <td>187.75</td>\n",
       "      <td>No</td>\n",
       "      <td>None</td>\n",
       "      <td>Month-to-month</td>\n",
       "      <td>Bank transfer (automatic)</td>\n",
       "    </tr>\n",
       "  </tbody>\n",
       "</table>\n",
       "<p>5 rows × 24 columns</p>\n",
       "</div>"
      ],
      "text/plain": [
       "   payment_type_id  contract_type_id  internet_service_type_id customer_id  \\\n",
       "0                2                 1                         3  0030-FNXPP   \n",
       "1                2                 1                         3  0031-PVLZI   \n",
       "2                1                 1                         3  0098-BOWSO   \n",
       "3                1                 1                         3  0107-WESLM   \n",
       "4                3                 1                         3  0114-RSRRW   \n",
       "\n",
       "   gender  senior_citizen partner dependents  tenure phone_service  ...  \\\n",
       "0  Female               0      No         No       3           Yes  ...   \n",
       "1  Female               0     Yes        Yes       4           Yes  ...   \n",
       "2    Male               0      No         No      27           Yes  ...   \n",
       "3    Male               0      No         No       1           Yes  ...   \n",
       "4  Female               0     Yes         No      10           Yes  ...   \n",
       "\n",
       "          tech_support         streaming_tv     streaming_movies  \\\n",
       "0  No internet service  No internet service  No internet service   \n",
       "1  No internet service  No internet service  No internet service   \n",
       "2  No internet service  No internet service  No internet service   \n",
       "3  No internet service  No internet service  No internet service   \n",
       "4  No internet service  No internet service  No internet service   \n",
       "\n",
       "  paperless_billing monthly_charges total_charges churn internet_service_type  \\\n",
       "0                No           19.85          57.2    No                  None   \n",
       "1                No           20.35         76.35   Yes                  None   \n",
       "2               Yes           19.40         529.8    No                  None   \n",
       "3               Yes           19.85         19.85   Yes                  None   \n",
       "4               Yes           19.95        187.75    No                  None   \n",
       "\n",
       "    contract_type               payment_type  \n",
       "0  Month-to-month               Mailed check  \n",
       "1  Month-to-month               Mailed check  \n",
       "2  Month-to-month           Electronic check  \n",
       "3  Month-to-month           Electronic check  \n",
       "4  Month-to-month  Bank transfer (automatic)  \n",
       "\n",
       "[5 rows x 24 columns]"
      ]
     },
     "execution_count": 3,
     "metadata": {},
     "output_type": "execute_result"
    }
   ],
   "source": [
    "df.head()"
   ]
  },
  {
   "cell_type": "code",
   "execution_count": 4,
   "id": "faeea1af",
   "metadata": {},
   "outputs": [
    {
     "data": {
      "text/plain": [
       "No                     3498\n",
       "Yes                    2019\n",
       "No internet service    1526\n",
       "Name: online_security, dtype: int64"
      ]
     },
     "execution_count": 4,
     "metadata": {},
     "output_type": "execute_result"
    }
   ],
   "source": [
    "df.online_security.value_counts()"
   ]
  },
  {
   "cell_type": "code",
   "execution_count": 5,
   "id": "d9d134ed",
   "metadata": {},
   "outputs": [
    {
     "data": {
      "text/plain": [
       "Index(['payment_type_id', 'contract_type_id', 'internet_service_type_id',\n",
       "       'customer_id', 'gender', 'senior_citizen', 'partner', 'dependents',\n",
       "       'tenure', 'phone_service', 'multiple_lines', 'online_security',\n",
       "       'online_backup', 'device_protection', 'tech_support', 'streaming_tv',\n",
       "       'streaming_movies', 'paperless_billing', 'monthly_charges',\n",
       "       'total_charges', 'churn', 'internet_service_type', 'contract_type',\n",
       "       'payment_type'],\n",
       "      dtype='object')"
      ]
     },
     "execution_count": 5,
     "metadata": {},
     "output_type": "execute_result"
    }
   ],
   "source": [
    "df.columns"
   ]
  },
  {
   "cell_type": "code",
   "execution_count": 6,
   "id": "2bece6a4",
   "metadata": {},
   "outputs": [
    {
     "data": {
      "text/plain": [
       "<AxesSubplot:xlabel='churn', ylabel='count'>"
      ]
     },
     "execution_count": 6,
     "metadata": {},
     "output_type": "execute_result"
    },
    {
     "data": {
      "image/png": "[encoded data removed]",
      "text/plain": [
       "<Figure size 432x288 with 1 Axes>"
      ]
     },
     "metadata": {
      "needs_background": "light"
     },
     "output_type": "display_data"
    }
   ],
   "source": [
    "# Visualizing Churn\n",
    "sns.countplot(df['churn'])"
   ]
  },
  {
   "cell_type": "code",
   "execution_count": 7,
   "id": "7d672b7e",
   "metadata": {},
   "outputs": [
    {
     "name": "stdout",
     "output_type": "stream",
     "text": [
      "73.4630129206304 % of customers stayed with the company\n",
      "26.536987079369588 % of customers left the company\n"
     ]
    }
   ],
   "source": [
    "# Get percentages of churned and not churned\n",
    "\n",
    "not_churned = df[df['churn']=='No']\n",
    "churned = df[df['churn']=='Yes']\n",
    "\n",
    "print(len(not_churned)/(len(churned)+len(not_churned)) * 100, '% of customers stayed with the company')\n",
    "print(len(churned)/(len(churned)+len(not_churned)) * 100, '% of customers left the company')"
   ]
  },
  {
   "cell_type": "code",
   "execution_count": 8,
   "id": "b61ce1f6",
   "metadata": {},
   "outputs": [
    {
     "data": {
      "text/plain": [
       "<AxesSubplot:xlabel='internet_service_type', ylabel='count'>"
      ]
     },
     "execution_count": 8,
     "metadata": {},
     "output_type": "execute_result"
    },
    {
     "data": {
      "image/png": "[encoded data removed]",
      "text/plain": [
       "<Figure size 432x288 with 1 Axes>"
      ]
     },
     "metadata": {
      "needs_background": "light"
     },
     "output_type": "display_data"
    }
   ],
   "source": [
    "# Visualizing Churn by internet_service_type\n",
    "\n",
    "sns.countplot(x='internet_service_type', hue='churn', data=df)"
   ]
  },
  {
   "cell_type": "code",
   "execution_count": 9,
   "id": "11653e6e",
   "metadata": {},
   "outputs": [
    {
     "data": {
      "text/plain": [
       "array([<AxesSubplot:title={'center':'tenure'}>,\n",
       "       <AxesSubplot:title={'center':'monthly_charges'}>], dtype=object)"
      ]
     },
     "execution_count": 9,
     "metadata": {},
     "output_type": "execute_result"
    },
    {
     "data": {
      "image/png": "[encoded data removed]",
      "text/plain": [
       "<Figure size 2016x576 with 2 Axes>"
      ]
     },
     "metadata": {
      "needs_background": "light"
     },
     "output_type": "display_data"
    }
   ],
   "source": [
    "# Visualizing churn based on tenure and monthly_charges\n",
    "\n",
    "features = ['tenure','monthly_charges']\n",
    "fig, ax = plt.subplots(1, 2, figsize=(28,8))\n",
    "not_churned[features].hist(bins=20, color='blue', alpha=0.5, ax = ax)\n",
    "churned[features].hist(bins=20, color='orange', alpha=0.5, ax = ax)\n"
   ]
  },
  {
   "cell_type": "code",
   "execution_count": 10,
   "id": "875b3b60",
   "metadata": {},
   "outputs": [],
   "source": [
    "# Drop customer_id and other columns I feel are superfluous\n",
    "\n",
    "df = df.drop(['customer_id','payment_type_id','contract_type_id','internet_service_type_id','online_backup','device_protection','tech_support','streaming_tv','streaming_movies'], axis = 1)"
   ]
  },
  {
   "cell_type": "code",
   "execution_count": 11,
   "id": "79e545d7",
   "metadata": {},
   "outputs": [
    {
     "data": {
      "text/plain": [
       "           11\n",
       "20.2       11\n",
       "19.75       9\n",
       "19.65       8\n",
       "20.05       8\n",
       "           ..\n",
       "62.25       1\n",
       "4946.05     1\n",
       "813.3       1\n",
       "135         1\n",
       "814.75      1\n",
       "Name: total_charges, Length: 6531, dtype: int64"
      ]
     },
     "execution_count": 11,
     "metadata": {},
     "output_type": "execute_result"
    }
   ],
   "source": [
    "df.total_charges.value_counts()"
   ]
  },
  {
   "cell_type": "code",
   "execution_count": 12,
   "id": "87bd5f02",
   "metadata": {},
   "outputs": [],
   "source": [
    "# Noticed the blank entries from the cell above, this code drops the empty total row charges\n",
    "\n",
    "df.drop(df[df['total_charges'].str.contains(\" \")].index, inplace = True)"
   ]
  },
  {
   "cell_type": "code",
   "execution_count": 13,
   "id": "e2d8e729",
   "metadata": {},
   "outputs": [
    {
     "data": {
      "text/plain": [
       "(7032, 15)"
      ]
     },
     "execution_count": 13,
     "metadata": {},
     "output_type": "execute_result"
    }
   ],
   "source": [
    "df.shape"
   ]
  },
  {
   "cell_type": "code",
   "execution_count": 14,
   "id": "a45c936d",
   "metadata": {},
   "outputs": [
    {
     "data": {
      "text/plain": [
       "<AxesSubplot:xlabel='online_security', ylabel='count'>"
      ]
     },
     "execution_count": 14,
     "metadata": {},
     "output_type": "execute_result"
    },
    {
     "data": {
      "image/png": "[encoded data removed]",
      "text/plain": [
       "<Figure size 432x288 with 1 Axes>"
      ]
     },
     "metadata": {
      "needs_background": "light"
     },
     "output_type": "display_data"
    }
   ],
   "source": [
    "sns.countplot(x='online_security', hue='churn', data=df)"
   ]
  },
  {
   "cell_type": "code",
   "execution_count": 15,
   "id": "a2c0bf66",
   "metadata": {},
   "outputs": [
    {
     "data": {
      "text/plain": [
       "No                     3497\n",
       "Yes                    2015\n",
       "No internet service    1520\n",
       "Name: online_security, dtype: int64"
      ]
     },
     "execution_count": 15,
     "metadata": {},
     "output_type": "execute_result"
    }
   ],
   "source": [
    "df.online_security.value_counts()"
   ]
  },
  {
   "cell_type": "code",
   "execution_count": 16,
   "id": "762c6e51",
   "metadata": {},
   "outputs": [
    {
     "data": {
      "text/plain": [
       "No     2036\n",
       "Yes    1461\n",
       "Name: churn, dtype: int64"
      ]
     },
     "execution_count": 16,
     "metadata": {},
     "output_type": "execute_result"
    }
   ],
   "source": [
    "no_security = df[df['online_security'] == 'No']\n",
    "no_security.churn.value_counts()"
   ]
  },
  {
   "cell_type": "code",
   "execution_count": 17,
   "id": "31e2b2cf",
   "metadata": {},
   "outputs": [
    {
     "data": {
      "text/plain": [
       "Fiber optic    2257\n",
       "DSL            1240\n",
       "Name: internet_service_type, dtype: int64"
      ]
     },
     "execution_count": 17,
     "metadata": {},
     "output_type": "execute_result"
    }
   ],
   "source": [
    "no_security.internet_service_type.value_counts()"
   ]
  },
  {
   "cell_type": "code",
   "execution_count": 18,
   "id": "2c3868c2",
   "metadata": {},
   "outputs": [
    {
     "data": {
      "text/plain": [
       "Fiber optic    1114\n",
       "DSL             347\n",
       "Name: internet_service_type, dtype: int64"
      ]
     },
     "execution_count": 18,
     "metadata": {},
     "output_type": "execute_result"
    }
   ],
   "source": [
    "no_security[no_security['churn']=='Yes'].internet_service_type.value_counts()"
   ]
  },
  {
   "cell_type": "code",
   "execution_count": 19,
   "id": "45116082",
   "metadata": {},
   "outputs": [
    {
     "data": {
      "text/plain": [
       "Fiber optic    1143\n",
       "DSL             893\n",
       "Name: internet_service_type, dtype: int64"
      ]
     },
     "execution_count": 19,
     "metadata": {},
     "output_type": "execute_result"
    }
   ],
   "source": [
    "no_security[no_security['churn']=='No'].internet_service_type.value_counts()"
   ]
  },
  {
   "cell_type": "code",
   "execution_count": 20,
   "id": "b7d91f36",
   "metadata": {},
   "outputs": [],
   "source": [
    "fiber = df[df['internet_service_type']=='Fiber optic']"
   ]
  },
  {
   "cell_type": "code",
   "execution_count": 21,
   "id": "599d7448",
   "metadata": {},
   "outputs": [
    {
     "data": {
      "text/plain": [
       "No     2257\n",
       "Yes     839\n",
       "Name: online_security, dtype: int64"
      ]
     },
     "execution_count": 21,
     "metadata": {},
     "output_type": "execute_result"
    }
   ],
   "source": [
    "fiber['online_security'].value_counts()"
   ]
  },
  {
   "cell_type": "code",
   "execution_count": 22,
   "id": "46d0788b",
   "metadata": {},
   "outputs": [
    {
     "data": {
      "text/plain": [
       "No     1143\n",
       "Yes    1114\n",
       "Name: churn, dtype: int64"
      ]
     },
     "execution_count": 22,
     "metadata": {},
     "output_type": "execute_result"
    }
   ],
   "source": [
    "fiber[fiber['online_security']=='No'].churn.value_counts()"
   ]
  },
  {
   "cell_type": "code",
   "execution_count": 23,
   "id": "8cda0317",
   "metadata": {},
   "outputs": [
    {
     "data": {
      "text/plain": [
       "No     656\n",
       "Yes    183\n",
       "Name: churn, dtype: int64"
      ]
     },
     "execution_count": 23,
     "metadata": {},
     "output_type": "execute_result"
    }
   ],
   "source": [
    "fiber[fiber['online_security']=='Yes'].churn.value_counts()"
   ]
  },
  {
   "cell_type": "code",
   "execution_count": null,
   "id": "822bfd5a",
   "metadata": {},
   "outputs": [],
   "source": []
  },
  {
   "cell_type": "code",
   "execution_count": 24,
   "id": "7bb27f3c",
   "metadata": {},
   "outputs": [],
   "source": [
    "# Convert non-numeric columns to numeric\n",
    "\n",
    "for column in df.columns:\n",
    "    if df[column].dtype == np.number:\n",
    "        continue\n",
    "    df[column] = LabelEncoder().fit_transform(df[column])"
   ]
  },
  {
   "cell_type": "code",
   "execution_count": 25,
   "id": "e5beb811",
   "metadata": {},
   "outputs": [
    {
     "data": {
      "text/plain": [
       "gender                     int64\n",
       "senior_citizen             int64\n",
       "partner                    int64\n",
       "dependents                 int64\n",
       "tenure                     int64\n",
       "phone_service              int64\n",
       "multiple_lines             int64\n",
       "online_security            int64\n",
       "paperless_billing          int64\n",
       "monthly_charges          float64\n",
       "total_charges              int64\n",
       "churn                      int64\n",
       "internet_service_type      int64\n",
       "contract_type              int64\n",
       "payment_type               int64\n",
       "dtype: object"
      ]
     },
     "execution_count": 25,
     "metadata": {},
     "output_type": "execute_result"
    }
   ],
   "source": [
    "df.dtypes"
   ]
  },
  {
   "cell_type": "code",
   "execution_count": 26,
   "id": "d39b4938",
   "metadata": {},
   "outputs": [
    {
     "data": {
      "text/plain": [
       "0    3875\n",
       "2    1685\n",
       "1    1472\n",
       "Name: contract_type, dtype: int64"
      ]
     },
     "execution_count": 26,
     "metadata": {},
     "output_type": "execute_result"
    }
   ],
   "source": [
    "df.contract_type.value_counts()"
   ]
  },
  {
   "cell_type": "code",
   "execution_count": 27,
   "id": "5e169cc3",
   "metadata": {},
   "outputs": [
    {
     "data": {
      "text/plain": [
       "1    3096\n",
       "0    2416\n",
       "2    1520\n",
       "Name: internet_service_type, dtype: int64"
      ]
     },
     "execution_count": 27,
     "metadata": {},
     "output_type": "execute_result"
    }
   ],
   "source": [
    "df.internet_service_type.value_counts()"
   ]
  },
  {
   "cell_type": "code",
   "execution_count": 28,
   "id": "e60985ac",
   "metadata": {},
   "outputs": [
    {
     "data": {
      "text/plain": [
       "0    3497\n",
       "2    2015\n",
       "1    1520\n",
       "Name: online_security, dtype: int64"
      ]
     },
     "execution_count": 28,
     "metadata": {},
     "output_type": "execute_result"
    }
   ],
   "source": [
    "df.online_security.value_counts()"
   ]
  },
  {
   "cell_type": "code",
   "execution_count": 29,
   "id": "3f190c79",
   "metadata": {},
   "outputs": [
    {
     "data": {
      "text/plain": [
       "0    5163\n",
       "1    1869\n",
       "Name: churn, dtype: int64"
      ]
     },
     "execution_count": 29,
     "metadata": {},
     "output_type": "execute_result"
    }
   ],
   "source": [
    "df.churn.value_counts()"
   ]
  },
  {
   "cell_type": "code",
   "execution_count": 30,
   "id": "6f8858e2",
   "metadata": {},
   "outputs": [],
   "source": [
    "def train_validate_test_split(df, target, seed=123):\n",
    "    '''\n",
    "    This function takes in a dataframe, the name of the target variable\n",
    "    (for stratification purposes), and an integer for a setting a seed\n",
    "    and splits the data into train, validate and test. \n",
    "    Test is 20% of the original dataset, validate is .30*.80= 24% of the \n",
    "    original dataset, and train is .70*.80= 56% of the original dataset. \n",
    "    The function returns, in this order, train, validate and test dataframes. \n",
    "    '''\n",
    "    train_validate, test = train_test_split(df, test_size=0.2, \n",
    "                                            random_state=seed, \n",
    "                                            stratify=df[target])\n",
    "    train, validate = train_test_split(train_validate, test_size=0.3, \n",
    "                                       random_state=seed,\n",
    "                                       stratify=train_validate[target])\n",
    "    return train, validate, test"
   ]
  },
  {
   "cell_type": "code",
   "execution_count": 31,
   "id": "9c19879f",
   "metadata": {},
   "outputs": [],
   "source": [
    "train, validate, test = train_validate_test_split(df, target='churn', seed=123)"
   ]
  },
  {
   "cell_type": "code",
   "execution_count": 32,
   "id": "ae834655",
   "metadata": {},
   "outputs": [],
   "source": [
    "# Split the data into X and y\n",
    "X_train = train.drop(columns=['churn'])\n",
    "y_train = train.churn\n",
    "\n",
    "X_validate = validate.drop(columns=['churn'])\n",
    "y_validate = validate.churn\n",
    "\n",
    "X_test = test.drop(columns=['churn'])\n",
    "y_test = test.churn"
   ]
  },
  {
   "cell_type": "markdown",
   "id": "27daf2ba",
   "metadata": {},
   "source": [
    "### Hypothesis testing"
   ]
  },
  {
   "cell_type": "code",
   "execution_count": 33,
   "id": "86e072bd",
   "metadata": {},
   "outputs": [],
   "source": [
    "alpha = .05"
   ]
  },
  {
   "cell_type": "code",
   "execution_count": 34,
   "id": "8ccfe73a",
   "metadata": {},
   "outputs": [],
   "source": [
    "# need to reword these"
   ]
  },
  {
   "cell_type": "markdown",
   "id": "f3d08d25",
   "metadata": {},
   "source": [
    "#### Is there a correlation between month-to-month contracts and churn?\n",
    "\"$H_0$ = Churn is independent of month-to-month contracts\"\n",
    "\n",
    "\"$H_a$ = Month-to-month contracts and churn are dependent on each other.\""
   ]
  },
  {
   "cell_type": "code",
   "execution_count": 35,
   "id": "d46cbcf2",
   "metadata": {},
   "outputs": [
    {
     "name": "stdout",
     "output_type": "stream",
     "text": [
      "p value is less than alpha:  True\n"
     ]
    }
   ],
   "source": [
    "observed = pd.crosstab(train['churn'], train['contract_type'])\n",
    "chi2, p, degf, expected = stats.chi2_contingency(observed)\n",
    "\n",
    "print(f\"p value is less than alpha:  {p < alpha}\")"
   ]
  },
  {
   "cell_type": "markdown",
   "id": "ddb2a902",
   "metadata": {},
   "source": [
    "#### Is there a correlation between fiber and churn\n",
    "\"$H_0$ = Churn is independent of fiber service.\"\n",
    "\n",
    "\"$H_a$ = Fiber service and churn are dependent on each other.\""
   ]
  },
  {
   "cell_type": "code",
   "execution_count": 36,
   "id": "0c0340cd",
   "metadata": {},
   "outputs": [
    {
     "name": "stdout",
     "output_type": "stream",
     "text": [
      "p value is less than alpha:  True\n"
     ]
    }
   ],
   "source": [
    "observed = pd.crosstab(train.churn, train.internet_service_type)\n",
    "chi2, p, degf, expected = stats.chi2_contingency(observed)\n",
    "\n",
    "print(f\"p value is less than alpha:  {p < alpha}\")"
   ]
  },
  {
   "cell_type": "code",
   "execution_count": 37,
   "id": "c359b31f",
   "metadata": {},
   "outputs": [
    {
     "data": {
      "text/plain": [
       "Index(['gender', 'senior_citizen', 'partner', 'dependents', 'tenure',\n",
       "       'phone_service', 'multiple_lines', 'online_security',\n",
       "       'paperless_billing', 'monthly_charges', 'total_charges', 'churn',\n",
       "       'internet_service_type', 'contract_type', 'payment_type'],\n",
       "      dtype='object')"
      ]
     },
     "execution_count": 37,
     "metadata": {},
     "output_type": "execute_result"
    }
   ],
   "source": [
    "train.columns"
   ]
  },
  {
   "cell_type": "code",
   "execution_count": 38,
   "id": "ed1d6c5a",
   "metadata": {},
   "outputs": [
    {
     "data": {
      "text/plain": [
       "<AxesSubplot:>"
      ]
     },
     "execution_count": 38,
     "metadata": {},
     "output_type": "execute_result"
    },
    {
     "data": {
      "image/png": "[encoded data removed]",
      "text/plain": [
       "<Figure size 432x288 with 2 Axes>"
      ]
     },
     "metadata": {
      "needs_background": "light"
     },
     "output_type": "display_data"
    }
   ],
   "source": [
    "sns.heatmap(train.corr(), cmap='mako', center=0)"
   ]
  },
  {
   "cell_type": "code",
   "execution_count": null,
   "id": "d6b6cc13",
   "metadata": {},
   "outputs": [],
   "source": []
  },
  {
   "cell_type": "code",
   "execution_count": 39,
   "id": "24c207e3",
   "metadata": {},
   "outputs": [
    {
     "data": {
      "text/plain": [
       "Index(['gender', 'senior_citizen', 'partner', 'dependents', 'tenure',\n",
       "       'phone_service', 'multiple_lines', 'online_security',\n",
       "       'paperless_billing', 'monthly_charges', 'total_charges',\n",
       "       'internet_service_type', 'contract_type', 'payment_type'],\n",
       "      dtype='object')"
      ]
     },
     "execution_count": 39,
     "metadata": {},
     "output_type": "execute_result"
    }
   ],
   "source": [
    "X_train.columns"
   ]
  },
  {
   "cell_type": "markdown",
   "id": "b010d754",
   "metadata": {},
   "source": [
    "### Model 1"
   ]
  },
  {
   "cell_type": "code",
   "execution_count": 40,
   "id": "71047224",
   "metadata": {},
   "outputs": [
    {
     "data": {
      "text/plain": [
       "LogisticRegression(C=1, random_state=123)"
      ]
     },
     "execution_count": 40,
     "metadata": {},
     "output_type": "execute_result"
    }
   ],
   "source": [
    "# Create model\n",
    "logit = LogisticRegression(C=1, random_state=123)\n",
    "# Train model\n",
    "logit.fit(X_train, y_train)"
   ]
  },
  {
   "cell_type": "code",
   "execution_count": 41,
   "id": "719a225e",
   "metadata": {},
   "outputs": [
    {
     "data": {
      "text/plain": [
       "['gender',\n",
       " 'senior_citizen',\n",
       " 'partner',\n",
       " 'dependents',\n",
       " 'tenure',\n",
       " 'phone_service',\n",
       " 'multiple_lines',\n",
       " 'online_security',\n",
       " 'paperless_billing',\n",
       " 'monthly_charges',\n",
       " 'total_charges',\n",
       " 'internet_service_type',\n",
       " 'contract_type',\n",
       " 'payment_type']"
      ]
     },
     "execution_count": 41,
     "metadata": {},
     "output_type": "execute_result"
    }
   ],
   "source": [
    "def column_list(X_train):\n",
    "    list = []\n",
    "    for column in X_train.columns:\n",
    "        list.append(column)\n",
    "    return list\n",
    "\n",
    "column_list(X_train)"
   ]
  },
  {
   "cell_type": "code",
   "execution_count": 42,
   "id": "44e9ceb4",
   "metadata": {},
   "outputs": [
    {
     "name": "stdout",
     "output_type": "stream",
     "text": [
      "Coefficient: \n",
      " [[-1.00925414e-01  3.65779158e-01  4.05016569e-02 -4.03680884e-01\n",
      "  -3.52082287e-02 -5.31793765e-01  1.38455771e-01 -3.93927627e-01\n",
      "   2.57101008e-01  1.83103290e-02  9.04853973e-05 -9.73727924e-02\n",
      "  -8.20045057e-01 -1.23081863e-01]]\n",
      "Intercept: \n",
      " [-0.53836176]\n"
     ]
    }
   ],
   "source": [
    "# Feature Importance\n",
    "print('Coefficient: \\n', logit.coef_)\n",
    "print('Intercept: \\n', logit.intercept_)"
   ]
  },
  {
   "cell_type": "code",
   "execution_count": 43,
   "id": "5681dbd0",
   "metadata": {},
   "outputs": [],
   "source": [
    "coef_list = logit.coef_.tolist()"
   ]
  },
  {
   "cell_type": "code",
   "execution_count": 44,
   "id": "00db67dd",
   "metadata": {},
   "outputs": [
    {
     "data": {
      "text/plain": [
       "[-0.10092541446499671,\n",
       " 0.36577915812867623,\n",
       " 0.04050165689096866,\n",
       " -0.40368088444171885,\n",
       " -0.03520822865733103,\n",
       " -0.5317937653158924,\n",
       " 0.13845577067682313,\n",
       " -0.3939276270407205,\n",
       " 0.25710100802220853,\n",
       " 0.01831032900710445,\n",
       " 9.04853973105549e-05,\n",
       " -0.09737279241669586,\n",
       " -0.8200450569625988,\n",
       " -0.1230818632643559]"
      ]
     },
     "execution_count": 44,
     "metadata": {},
     "output_type": "execute_result"
    }
   ],
   "source": [
    "\n",
    "def coef_list(coef_list):\n",
    "    list = []\n",
    "    for item in coef_list:\n",
    "        for items in item:\n",
    "            list.append(items)\n",
    "    return list\n",
    "\n",
    "coef_list(logit.coef_.tolist())"
   ]
  },
  {
   "cell_type": "code",
   "execution_count": 45,
   "id": "7791f019",
   "metadata": {},
   "outputs": [
    {
     "data": {
      "text/html": [
       "<div>\n",
       "<style scoped>\n",
       "    .dataframe tbody tr th:only-of-type {\n",
       "        vertical-align: middle;\n",
       "    }\n",
       "\n",
       "    .dataframe tbody tr th {\n",
       "        vertical-align: top;\n",
       "    }\n",
       "\n",
       "    .dataframe thead th {\n",
       "        text-align: right;\n",
       "    }\n",
       "</style>\n",
       "<table border=\"1\" class=\"dataframe\">\n",
       "  <thead>\n",
       "    <tr style=\"text-align: right;\">\n",
       "      <th></th>\n",
       "      <th>Columns</th>\n",
       "      <th>Coeff</th>\n",
       "    </tr>\n",
       "  </thead>\n",
       "  <tbody>\n",
       "    <tr>\n",
       "      <th>0</th>\n",
       "      <td>gender</td>\n",
       "      <td>-0.100925</td>\n",
       "    </tr>\n",
       "    <tr>\n",
       "      <th>1</th>\n",
       "      <td>senior_citizen</td>\n",
       "      <td>0.365779</td>\n",
       "    </tr>\n",
       "    <tr>\n",
       "      <th>2</th>\n",
       "      <td>partner</td>\n",
       "      <td>0.040502</td>\n",
       "    </tr>\n",
       "    <tr>\n",
       "      <th>3</th>\n",
       "      <td>dependents</td>\n",
       "      <td>-0.403681</td>\n",
       "    </tr>\n",
       "    <tr>\n",
       "      <th>4</th>\n",
       "      <td>tenure</td>\n",
       "      <td>-0.035208</td>\n",
       "    </tr>\n",
       "    <tr>\n",
       "      <th>5</th>\n",
       "      <td>phone_service</td>\n",
       "      <td>-0.531794</td>\n",
       "    </tr>\n",
       "    <tr>\n",
       "      <th>6</th>\n",
       "      <td>multiple_lines</td>\n",
       "      <td>0.138456</td>\n",
       "    </tr>\n",
       "    <tr>\n",
       "      <th>7</th>\n",
       "      <td>online_security</td>\n",
       "      <td>-0.393928</td>\n",
       "    </tr>\n",
       "    <tr>\n",
       "      <th>8</th>\n",
       "      <td>paperless_billing</td>\n",
       "      <td>0.257101</td>\n",
       "    </tr>\n",
       "    <tr>\n",
       "      <th>9</th>\n",
       "      <td>monthly_charges</td>\n",
       "      <td>0.018310</td>\n",
       "    </tr>\n",
       "    <tr>\n",
       "      <th>10</th>\n",
       "      <td>total_charges</td>\n",
       "      <td>0.000090</td>\n",
       "    </tr>\n",
       "    <tr>\n",
       "      <th>11</th>\n",
       "      <td>internet_service_type</td>\n",
       "      <td>-0.097373</td>\n",
       "    </tr>\n",
       "    <tr>\n",
       "      <th>12</th>\n",
       "      <td>contract_type</td>\n",
       "      <td>-0.820045</td>\n",
       "    </tr>\n",
       "    <tr>\n",
       "      <th>13</th>\n",
       "      <td>payment_type</td>\n",
       "      <td>-0.123082</td>\n",
       "    </tr>\n",
       "  </tbody>\n",
       "</table>\n",
       "</div>"
      ],
      "text/plain": [
       "                  Columns     Coeff\n",
       "0                  gender -0.100925\n",
       "1          senior_citizen  0.365779\n",
       "2                 partner  0.040502\n",
       "3              dependents -0.403681\n",
       "4                  tenure -0.035208\n",
       "5           phone_service -0.531794\n",
       "6          multiple_lines  0.138456\n",
       "7         online_security -0.393928\n",
       "8       paperless_billing  0.257101\n",
       "9         monthly_charges  0.018310\n",
       "10          total_charges  0.000090\n",
       "11  internet_service_type -0.097373\n",
       "12          contract_type -0.820045\n",
       "13           payment_type -0.123082"
      ]
     },
     "execution_count": 45,
     "metadata": {},
     "output_type": "execute_result"
    }
   ],
   "source": [
    "column_importance = pd.DataFrame()\n",
    "column_importance['Columns'] = column_list(X_train)\n",
    "column_importance['Coeff'] = coef_list(logit.coef_.tolist())\n",
    "\n",
    "column_importance"
   ]
  },
  {
   "cell_type": "code",
   "execution_count": 46,
   "id": "5186e032",
   "metadata": {},
   "outputs": [
    {
     "data": {
      "text/plain": [
       "10    0.000090\n",
       "9     0.018310\n",
       "4     0.035208\n",
       "2     0.040502\n",
       "11    0.097373\n",
       "0     0.100925\n",
       "13    0.123082\n",
       "6     0.138456\n",
       "8     0.257101\n",
       "1     0.365779\n",
       "7     0.393928\n",
       "3     0.403681\n",
       "5     0.531794\n",
       "12    0.820045\n",
       "Name: Coeff, dtype: float64"
      ]
     },
     "execution_count": 46,
     "metadata": {},
     "output_type": "execute_result"
    }
   ],
   "source": [
    "column_importance.Coeff.abs().sort_values()"
   ]
  },
  {
   "cell_type": "code",
   "execution_count": null,
   "id": "afc8ec78",
   "metadata": {},
   "outputs": [],
   "source": []
  },
  {
   "cell_type": "code",
   "execution_count": 47,
   "id": "6d38e4ec",
   "metadata": {},
   "outputs": [],
   "source": [
    "# monthly_charges and tenure are the top two important features, followed by contract_type"
   ]
  },
  {
   "cell_type": "code",
   "execution_count": 48,
   "id": "29827172",
   "metadata": {},
   "outputs": [
    {
     "name": "stdout",
     "output_type": "stream",
     "text": [
      "[0 0 0 ... 0 0 0]\n"
     ]
    }
   ],
   "source": [
    "# Create predictions\n",
    "y_pred = logit.predict(X_train)\n",
    "\n",
    "print(y_pred)"
   ]
  },
  {
   "cell_type": "code",
   "execution_count": 49,
   "id": "1ca9b90c",
   "metadata": {},
   "outputs": [
    {
     "name": "stdout",
     "output_type": "stream",
     "text": [
      "[[0.97581448 0.02418552]\n",
      " [0.81619986 0.18380014]\n",
      " [0.99641849 0.00358151]\n",
      " ...\n",
      " [0.93825559 0.06174441]\n",
      " [0.6534324  0.3465676 ]\n",
      " [0.88345529 0.11654471]]\n"
     ]
    }
   ],
   "source": [
    "y_pred_proba = logit.predict_proba(X_train)\n",
    "\n",
    "print(y_pred_proba)"
   ]
  },
  {
   "cell_type": "code",
   "execution_count": 50,
   "id": "46054bbf",
   "metadata": {},
   "outputs": [
    {
     "name": "stdout",
     "output_type": "stream",
     "text": [
      "Accuracy of Logistic Regression classifier on training set: 0.80\n"
     ]
    }
   ],
   "source": [
    "print('Accuracy of Logistic Regression classifier on training set: {:.2f}'\n",
    "     .format(logit.score(X_train, y_train)))"
   ]
  },
  {
   "cell_type": "code",
   "execution_count": 51,
   "id": "47af1835",
   "metadata": {},
   "outputs": [
    {
     "name": "stdout",
     "output_type": "stream",
     "text": [
      "[[2597  294]\n",
      " [ 502  544]]\n"
     ]
    }
   ],
   "source": [
    "print(confusion_matrix(y_train, y_pred))\n"
   ]
  },
  {
   "cell_type": "code",
   "execution_count": 52,
   "id": "961c0cb1",
   "metadata": {},
   "outputs": [
    {
     "name": "stdout",
     "output_type": "stream",
     "text": [
      "              precision    recall  f1-score   support\n",
      "\n",
      "           0       0.84      0.90      0.87      2891\n",
      "           1       0.65      0.52      0.58      1046\n",
      "\n",
      "    accuracy                           0.80      3937\n",
      "   macro avg       0.74      0.71      0.72      3937\n",
      "weighted avg       0.79      0.80      0.79      3937\n",
      "\n"
     ]
    }
   ],
   "source": [
    "# Check precision, recall, f1-score\n",
    "print(classification_report(y_train, y_pred))"
   ]
  },
  {
   "cell_type": "code",
   "execution_count": 53,
   "id": "1b05edf2",
   "metadata": {},
   "outputs": [
    {
     "name": "stdout",
     "output_type": "stream",
     "text": [
      "Model 1: solver = lbfgs, c = 1\n",
      "Accuracy: 0.80\n",
      "[[1111  128]\n",
      " [ 216  233]]\n",
      "              precision    recall  f1-score   support\n",
      "\n",
      "           0       0.84      0.90      0.87      1239\n",
      "           1       0.65      0.52      0.58       449\n",
      "\n",
      "    accuracy                           0.80      1688\n",
      "   macro avg       0.74      0.71      0.72      1688\n",
      "weighted avg       0.79      0.80      0.79      1688\n",
      "\n"
     ]
    }
   ],
   "source": [
    "# Validate\n",
    "\n",
    "y_pred1 = logit.predict(X_validate)\n",
    "\n",
    "print(\"Model 1: solver = lbfgs, c = 1\")\n",
    "\n",
    "# accuracy of model 1\n",
    "print('Accuracy: {:.2f}'.format(logit.score(X_validate, y_validate)))\n",
    "\n",
    "# confusion matrix of model 1\n",
    "print(confusion_matrix(y_validate, y_pred1))\n",
    "\n",
    "# classification report of model 1\n",
    "print(classification_report(y_validate, y_pred1))\n"
   ]
  },
  {
   "cell_type": "code",
   "execution_count": 54,
   "id": "e63d5511",
   "metadata": {},
   "outputs": [
    {
     "name": "stdout",
     "output_type": "stream",
     "text": [
      "Model 1: solver = lbfgs, c = 1\n",
      "Accuracy: 0.78\n",
      "[[916 117]\n",
      " [188 186]]\n",
      "              precision    recall  f1-score   support\n",
      "\n",
      "           0       0.83      0.89      0.86      1033\n",
      "           1       0.61      0.50      0.55       374\n",
      "\n",
      "    accuracy                           0.78      1407\n",
      "   macro avg       0.72      0.69      0.70      1407\n",
      "weighted avg       0.77      0.78      0.78      1407\n",
      "\n"
     ]
    }
   ],
   "source": [
    "# Test\n",
    "\n",
    "y_pred = logit.predict(X_test)\n",
    "y_pred_proba = logit.predict_proba(X_test)\n",
    "\n",
    "print(\"Model 1: solver = lbfgs, c = 1\")\n",
    "\n",
    "print('Accuracy: {:.2f}'.format(logit.score(X_test, y_test)))\n",
    "\n",
    "print(confusion_matrix(y_test, y_pred))\n",
    "\n",
    "print(classification_report(y_test, y_pred))"
   ]
  },
  {
   "cell_type": "code",
   "execution_count": 1,
   "id": "9636b549",
   "metadata": {},
   "outputs": [
    {
     "ename": "NameError",
     "evalue": "name 'np' is not defined",
     "output_type": "error",
     "traceback": [
      "\u001b[0;31m-------------------------------------------------------------------\u001b[0m",
      "\u001b[0;31mNameError\u001b[0m                         Traceback (most recent call last)",
      "\u001b[0;32m<ipython-input-1-7eafe5368e3e>\u001b[0m in \u001b[0;36m<module>\u001b[0;34m\u001b[0m\n\u001b[1;32m      2\u001b[0m \u001b[0;34m\u001b[0m\u001b[0m\n\u001b[1;32m      3\u001b[0m \u001b[0;31m# loop through different values of C\u001b[0m\u001b[0;34m\u001b[0m\u001b[0;34m\u001b[0m\u001b[0;34m\u001b[0m\u001b[0m\n\u001b[0;32m----> 4\u001b[0;31m \u001b[0;32mfor\u001b[0m \u001b[0mc\u001b[0m \u001b[0;32min\u001b[0m \u001b[0mnp\u001b[0m\u001b[0;34m.\u001b[0m\u001b[0marange\u001b[0m\u001b[0;34m(\u001b[0m\u001b[0;36m0.1\u001b[0m\u001b[0;34m,\u001b[0m \u001b[0;36m1.6\u001b[0m\u001b[0;34m,\u001b[0m \u001b[0;36m0.1\u001b[0m\u001b[0;34m)\u001b[0m\u001b[0;34m:\u001b[0m\u001b[0;34m\u001b[0m\u001b[0;34m\u001b[0m\u001b[0m\n\u001b[0m\u001b[1;32m      5\u001b[0m \u001b[0;34m\u001b[0m\u001b[0m\n\u001b[1;32m      6\u001b[0m     \u001b[0;31m# define the thing\u001b[0m\u001b[0;34m\u001b[0m\u001b[0;34m\u001b[0m\u001b[0;34m\u001b[0m\u001b[0m\n",
      "\u001b[0;31mNameError\u001b[0m: name 'np' is not defined"
     ]
    }
   ],
   "source": [
    "metrics = []\n",
    "\n",
    "# loop through different values of C\n",
    "for c in np.arange(0.1, 1.6, 0.1):\n",
    "            \n",
    "    # define the thing\n",
    "    logit = LogisticRegression(C=c, random_state=123)\n",
    "    \n",
    "    # fit the thing (remember only fit on training data)\n",
    "    logit.fit(X_train, y_train)\n",
    "    \n",
    "    # use the thing (calculate accuracy)\n",
    "    train_accuracy = logit.score(X_train, y_train)\n",
    "    validate_accuracy = logit.score(X_validate, y_validate)\n",
    "    \n",
    "    output = {\n",
    "        \"C\": c,\n",
    "        \"train_accuracy\": train_accuracy,\n",
    "        \"validate_accuracy\": validate_accuracy\n",
    "    }\n",
    "    \n",
    "    metrics.append(output)\n",
    "\n",
    "# make a dataframe\n",
    "df = pd.DataFrame(metrics)\n",
    "\n",
    "# plot the data\n",
    "df.set_index('C', inplace=True)\n",
    "df.plot(figsize = (12,4))\n",
    "plt.ylabel('Accuracy')\n",
    "plt.xticks(np.arange(0, 1.6, 0.1))\n",
    "plt.grid(b=True)\n",
    "plt.title('Validate Accuracy is Best and Overfitting in Minimized at C = 0.4')\n",
    "plt.tight_layout()\n",
    "\n",
    "df[\"difference\"] = round(df.train_accuracy - df.validate_accuracy, 3)\n",
    "df"
   ]
  },
  {
   "cell_type": "markdown",
   "id": "5b588c84",
   "metadata": {},
   "source": [
    "### Model 2 (Logistic Regression with less columns)"
   ]
  },
  {
   "cell_type": "code",
   "execution_count": 55,
   "id": "59605435",
   "metadata": {},
   "outputs": [
    {
     "data": {
      "text/plain": [
       "Index(['gender', 'senior_citizen', 'partner', 'dependents', 'tenure',\n",
       "       'phone_service', 'multiple_lines', 'online_security',\n",
       "       'paperless_billing', 'monthly_charges', 'total_charges', 'churn',\n",
       "       'internet_service_type', 'contract_type', 'payment_type'],\n",
       "      dtype='object')"
      ]
     },
     "execution_count": 55,
     "metadata": {},
     "output_type": "execute_result"
    }
   ],
   "source": [
    "df.columns"
   ]
  },
  {
   "cell_type": "code",
   "execution_count": 56,
   "id": "c9337444",
   "metadata": {},
   "outputs": [],
   "source": [
    "train, validate, test = train_validate_test_split(df, target='churn', seed=123)"
   ]
  },
  {
   "cell_type": "code",
   "execution_count": 57,
   "id": "c6601f07",
   "metadata": {},
   "outputs": [],
   "source": [
    "# Split the data\n",
    "X_train = train.drop(columns=['gender','senior_citizen','partner','dependents','phone_service','multiple_lines','online_security','paperless_billing','total_charges','churn','internet_service_type','payment_type'])\n",
    "y_train = train.churn\n",
    "\n",
    "X_validate = validate.drop(columns=['gender','senior_citizen','partner','dependents','phone_service','multiple_lines','online_security','paperless_billing','total_charges','churn','internet_service_type','payment_type'])\n",
    "y_validate = validate.churn\n",
    "\n",
    "X_test = test.drop(columns=['gender','senior_citizen','partner','dependents','phone_service','multiple_lines','online_security','paperless_billing','total_charges','churn','internet_service_type','payment_type'])\n",
    "y_test = test.churn"
   ]
  },
  {
   "cell_type": "code",
   "execution_count": 58,
   "id": "66867d73",
   "metadata": {},
   "outputs": [
    {
     "data": {
      "text/plain": [
       "LogisticRegression(C=1, random_state=123)"
      ]
     },
     "execution_count": 58,
     "metadata": {},
     "output_type": "execute_result"
    }
   ],
   "source": [
    "# Create model\n",
    "logit = LogisticRegression(C=1,random_state=123)\n",
    "# Train model\n",
    "logit.fit(X_train, y_train)"
   ]
  },
  {
   "cell_type": "code",
   "execution_count": 59,
   "id": "7fc05bc3",
   "metadata": {},
   "outputs": [
    {
     "name": "stdout",
     "output_type": "stream",
     "text": [
      "[0 0 0 ... 0 1 0]\n"
     ]
    }
   ],
   "source": [
    "# Create predictions\n",
    "y_pred = logit.predict(X_train)\n",
    "\n",
    "print(y_pred)"
   ]
  },
  {
   "cell_type": "code",
   "execution_count": 60,
   "id": "03c2291a",
   "metadata": {},
   "outputs": [
    {
     "name": "stdout",
     "output_type": "stream",
     "text": [
      "[[0.94436527 0.05563473]\n",
      " [0.89301846 0.10698154]\n",
      " [0.99354655 0.00645345]\n",
      " ...\n",
      " [0.90556799 0.09443201]\n",
      " [0.34877675 0.65122325]\n",
      " [0.87898133 0.12101867]]\n"
     ]
    }
   ],
   "source": [
    "y_pred_proba = logit.predict_proba(X_train)\n",
    "\n",
    "print(y_pred_proba)"
   ]
  },
  {
   "cell_type": "code",
   "execution_count": 61,
   "id": "b6936c14",
   "metadata": {},
   "outputs": [
    {
     "name": "stdout",
     "output_type": "stream",
     "text": [
      "Accuracy of Logistic Regression classifier on training set: 0.79\n"
     ]
    }
   ],
   "source": [
    "print('Accuracy of Logistic Regression classifier on training set: {:.2f}'\n",
    "     .format(logit.score(X_train, y_train)))"
   ]
  },
  {
   "cell_type": "code",
   "execution_count": 62,
   "id": "ad019461",
   "metadata": {
    "scrolled": true
   },
   "outputs": [
    {
     "name": "stdout",
     "output_type": "stream",
     "text": [
      "              precision    recall  f1-score   support\n",
      "\n",
      "           0       0.83      0.90      0.86      2891\n",
      "           1       0.63      0.50      0.56      1046\n",
      "\n",
      "    accuracy                           0.79      3937\n",
      "   macro avg       0.73      0.70      0.71      3937\n",
      "weighted avg       0.78      0.79      0.78      3937\n",
      "\n"
     ]
    }
   ],
   "source": [
    "# Check precision, recall, f1-score\n",
    "print(classification_report(y_train, y_pred))"
   ]
  },
  {
   "cell_type": "markdown",
   "id": "0957a2d9",
   "metadata": {},
   "source": [
    "### KNN"
   ]
  },
  {
   "cell_type": "code",
   "execution_count": 63,
   "id": "8e5e073b",
   "metadata": {},
   "outputs": [],
   "source": [
    "train, validate, test = train_validate_test_split(df, target='churn', seed=123)\n",
    "# Split the data\n",
    "X_train = train.drop(columns=['churn'])\n",
    "y_train = train.churn\n",
    "\n",
    "X_validate = validate.drop(columns=['churn'])\n",
    "y_validate = validate.churn\n",
    "\n",
    "X_test = test.drop(columns=['churn'])\n",
    "y_test = test.churn"
   ]
  },
  {
   "cell_type": "code",
   "execution_count": 64,
   "id": "749e105f",
   "metadata": {},
   "outputs": [],
   "source": [
    "# Create Model\n",
    "\n",
    "knn = KNeighborsClassifier(n_neighbors=5, weights='uniform')\n"
   ]
  },
  {
   "cell_type": "code",
   "execution_count": 65,
   "id": "9520a4e8",
   "metadata": {},
   "outputs": [
    {
     "data": {
      "text/plain": [
       "KNeighborsClassifier()"
      ]
     },
     "execution_count": 65,
     "metadata": {},
     "output_type": "execute_result"
    }
   ],
   "source": [
    "# Fit Model\n",
    "\n",
    "knn.fit(X_train, y_train)\n"
   ]
  },
  {
   "cell_type": "code",
   "execution_count": 66,
   "id": "df0b3ac0",
   "metadata": {},
   "outputs": [],
   "source": [
    "y_pred = knn.predict(X_train)\n"
   ]
  },
  {
   "cell_type": "code",
   "execution_count": 67,
   "id": "356ca7f4",
   "metadata": {},
   "outputs": [],
   "source": [
    "y_pred_proba = knn.predict_proba(X_train)\n"
   ]
  },
  {
   "cell_type": "code",
   "execution_count": 68,
   "id": "17db51bb",
   "metadata": {},
   "outputs": [
    {
     "name": "stdout",
     "output_type": "stream",
     "text": [
      "Accuracy of KNN classifier on training set: 0.83\n"
     ]
    }
   ],
   "source": [
    "print('Accuracy of KNN classifier on training set: {:.2f}'\n",
    "     .format(knn.score(X_train, y_train)))"
   ]
  },
  {
   "cell_type": "code",
   "execution_count": 69,
   "id": "5504f634",
   "metadata": {},
   "outputs": [
    {
     "name": "stdout",
     "output_type": "stream",
     "text": [
      "              precision    recall  f1-score   support\n",
      "\n",
      "           0       0.85      0.92      0.89      2891\n",
      "           1       0.73      0.55      0.63      1046\n",
      "\n",
      "    accuracy                           0.83      3937\n",
      "   macro avg       0.79      0.74      0.76      3937\n",
      "weighted avg       0.82      0.83      0.82      3937\n",
      "\n"
     ]
    }
   ],
   "source": [
    "print(classification_report(y_train, y_pred))\n"
   ]
  },
  {
   "cell_type": "code",
   "execution_count": null,
   "id": "16d7e69d",
   "metadata": {},
   "outputs": [],
   "source": []
  },
  {
   "cell_type": "code",
   "execution_count": 71,
   "id": "834df902",
   "metadata": {},
   "outputs": [
    {
     "name": "stdout",
     "output_type": "stream",
     "text": [
      "Accuracy of KNN classifier on training set: 0.81\n"
     ]
    }
   ],
   "source": [
    "print('Accuracy of KNN classifier on training set: {:.2f}'\n",
    "     .format(knn.score(X_validate, y_validate)))"
   ]
  },
  {
   "cell_type": "code",
   "execution_count": 72,
   "id": "293241f1",
   "metadata": {},
   "outputs": [
    {
     "data": {
      "text/html": [
       "<div>\n",
       "<style scoped>\n",
       "    .dataframe tbody tr th:only-of-type {\n",
       "        vertical-align: middle;\n",
       "    }\n",
       "\n",
       "    .dataframe tbody tr th {\n",
       "        vertical-align: top;\n",
       "    }\n",
       "\n",
       "    .dataframe thead th {\n",
       "        text-align: right;\n",
       "    }\n",
       "</style>\n",
       "<table border=\"1\" class=\"dataframe\">\n",
       "  <thead>\n",
       "    <tr style=\"text-align: right;\">\n",
       "      <th></th>\n",
       "      <th>k</th>\n",
       "      <th>train_accuracy</th>\n",
       "      <th>validate_accuracy</th>\n",
       "      <th>train_recall</th>\n",
       "      <th>validate_recall</th>\n",
       "      <th>accuracy_difference</th>\n",
       "    </tr>\n",
       "  </thead>\n",
       "  <tbody>\n",
       "    <tr>\n",
       "      <th>0</th>\n",
       "      <td>1</td>\n",
       "      <td>0.998</td>\n",
       "      <td>0.688</td>\n",
       "      <td>1.000</td>\n",
       "      <td>0.789</td>\n",
       "      <td>0.310</td>\n",
       "    </tr>\n",
       "    <tr>\n",
       "      <th>1</th>\n",
       "      <td>2</td>\n",
       "      <td>0.859</td>\n",
       "      <td>0.734</td>\n",
       "      <td>1.000</td>\n",
       "      <td>0.920</td>\n",
       "      <td>0.125</td>\n",
       "    </tr>\n",
       "    <tr>\n",
       "      <th>2</th>\n",
       "      <td>3</td>\n",
       "      <td>0.860</td>\n",
       "      <td>0.713</td>\n",
       "      <td>0.931</td>\n",
       "      <td>0.839</td>\n",
       "      <td>0.147</td>\n",
       "    </tr>\n",
       "    <tr>\n",
       "      <th>3</th>\n",
       "      <td>4</td>\n",
       "      <td>0.830</td>\n",
       "      <td>0.742</td>\n",
       "      <td>0.969</td>\n",
       "      <td>0.922</td>\n",
       "      <td>0.088</td>\n",
       "    </tr>\n",
       "    <tr>\n",
       "      <th>4</th>\n",
       "      <td>5</td>\n",
       "      <td>0.826</td>\n",
       "      <td>0.737</td>\n",
       "      <td>0.925</td>\n",
       "      <td>0.868</td>\n",
       "      <td>0.089</td>\n",
       "    </tr>\n",
       "    <tr>\n",
       "      <th>5</th>\n",
       "      <td>6</td>\n",
       "      <td>0.808</td>\n",
       "      <td>0.745</td>\n",
       "      <td>0.956</td>\n",
       "      <td>0.918</td>\n",
       "      <td>0.063</td>\n",
       "    </tr>\n",
       "    <tr>\n",
       "      <th>6</th>\n",
       "      <td>7</td>\n",
       "      <td>0.815</td>\n",
       "      <td>0.746</td>\n",
       "      <td>0.927</td>\n",
       "      <td>0.888</td>\n",
       "      <td>0.069</td>\n",
       "    </tr>\n",
       "    <tr>\n",
       "      <th>7</th>\n",
       "      <td>8</td>\n",
       "      <td>0.802</td>\n",
       "      <td>0.762</td>\n",
       "      <td>0.956</td>\n",
       "      <td>0.935</td>\n",
       "      <td>0.040</td>\n",
       "    </tr>\n",
       "    <tr>\n",
       "      <th>8</th>\n",
       "      <td>9</td>\n",
       "      <td>0.799</td>\n",
       "      <td>0.753</td>\n",
       "      <td>0.925</td>\n",
       "      <td>0.899</td>\n",
       "      <td>0.046</td>\n",
       "    </tr>\n",
       "    <tr>\n",
       "      <th>9</th>\n",
       "      <td>10</td>\n",
       "      <td>0.793</td>\n",
       "      <td>0.760</td>\n",
       "      <td>0.951</td>\n",
       "      <td>0.935</td>\n",
       "      <td>0.033</td>\n",
       "    </tr>\n",
       "    <tr>\n",
       "      <th>10</th>\n",
       "      <td>11</td>\n",
       "      <td>0.794</td>\n",
       "      <td>0.751</td>\n",
       "      <td>0.933</td>\n",
       "      <td>0.909</td>\n",
       "      <td>0.043</td>\n",
       "    </tr>\n",
       "    <tr>\n",
       "      <th>11</th>\n",
       "      <td>12</td>\n",
       "      <td>0.791</td>\n",
       "      <td>0.760</td>\n",
       "      <td>0.952</td>\n",
       "      <td>0.936</td>\n",
       "      <td>0.031</td>\n",
       "    </tr>\n",
       "    <tr>\n",
       "      <th>12</th>\n",
       "      <td>13</td>\n",
       "      <td>0.790</td>\n",
       "      <td>0.761</td>\n",
       "      <td>0.937</td>\n",
       "      <td>0.921</td>\n",
       "      <td>0.029</td>\n",
       "    </tr>\n",
       "    <tr>\n",
       "      <th>13</th>\n",
       "      <td>14</td>\n",
       "      <td>0.787</td>\n",
       "      <td>0.763</td>\n",
       "      <td>0.952</td>\n",
       "      <td>0.939</td>\n",
       "      <td>0.024</td>\n",
       "    </tr>\n",
       "    <tr>\n",
       "      <th>14</th>\n",
       "      <td>15</td>\n",
       "      <td>0.789</td>\n",
       "      <td>0.756</td>\n",
       "      <td>0.937</td>\n",
       "      <td>0.921</td>\n",
       "      <td>0.033</td>\n",
       "    </tr>\n",
       "    <tr>\n",
       "      <th>15</th>\n",
       "      <td>16</td>\n",
       "      <td>0.784</td>\n",
       "      <td>0.765</td>\n",
       "      <td>0.956</td>\n",
       "      <td>0.943</td>\n",
       "      <td>0.019</td>\n",
       "    </tr>\n",
       "    <tr>\n",
       "      <th>16</th>\n",
       "      <td>17</td>\n",
       "      <td>0.785</td>\n",
       "      <td>0.760</td>\n",
       "      <td>0.943</td>\n",
       "      <td>0.925</td>\n",
       "      <td>0.025</td>\n",
       "    </tr>\n",
       "    <tr>\n",
       "      <th>17</th>\n",
       "      <td>18</td>\n",
       "      <td>0.779</td>\n",
       "      <td>0.760</td>\n",
       "      <td>0.957</td>\n",
       "      <td>0.944</td>\n",
       "      <td>0.019</td>\n",
       "    </tr>\n",
       "    <tr>\n",
       "      <th>18</th>\n",
       "      <td>19</td>\n",
       "      <td>0.782</td>\n",
       "      <td>0.763</td>\n",
       "      <td>0.946</td>\n",
       "      <td>0.938</td>\n",
       "      <td>0.019</td>\n",
       "    </tr>\n",
       "    <tr>\n",
       "      <th>19</th>\n",
       "      <td>20</td>\n",
       "      <td>0.775</td>\n",
       "      <td>0.766</td>\n",
       "      <td>0.958</td>\n",
       "      <td>0.953</td>\n",
       "      <td>0.009</td>\n",
       "    </tr>\n",
       "  </tbody>\n",
       "</table>\n",
       "</div>"
      ],
      "text/plain": [
       "     k  train_accuracy  validate_accuracy  train_recall  validate_recall  \\\n",
       "0    1           0.998              0.688         1.000            0.789   \n",
       "1    2           0.859              0.734         1.000            0.920   \n",
       "2    3           0.860              0.713         0.931            0.839   \n",
       "3    4           0.830              0.742         0.969            0.922   \n",
       "4    5           0.826              0.737         0.925            0.868   \n",
       "5    6           0.808              0.745         0.956            0.918   \n",
       "6    7           0.815              0.746         0.927            0.888   \n",
       "7    8           0.802              0.762         0.956            0.935   \n",
       "8    9           0.799              0.753         0.925            0.899   \n",
       "9   10           0.793              0.760         0.951            0.935   \n",
       "10  11           0.794              0.751         0.933            0.909   \n",
       "11  12           0.791              0.760         0.952            0.936   \n",
       "12  13           0.790              0.761         0.937            0.921   \n",
       "13  14           0.787              0.763         0.952            0.939   \n",
       "14  15           0.789              0.756         0.937            0.921   \n",
       "15  16           0.784              0.765         0.956            0.943   \n",
       "16  17           0.785              0.760         0.943            0.925   \n",
       "17  18           0.779              0.760         0.957            0.944   \n",
       "18  19           0.782              0.763         0.946            0.938   \n",
       "19  20           0.775              0.766         0.958            0.953   \n",
       "\n",
       "    accuracy_difference  \n",
       "0                 0.310  \n",
       "1                 0.125  \n",
       "2                 0.147  \n",
       "3                 0.088  \n",
       "4                 0.089  \n",
       "5                 0.063  \n",
       "6                 0.069  \n",
       "7                 0.040  \n",
       "8                 0.046  \n",
       "9                 0.033  \n",
       "10                0.043  \n",
       "11                0.031  \n",
       "12                0.029  \n",
       "13                0.024  \n",
       "14                0.033  \n",
       "15                0.019  \n",
       "16                0.025  \n",
       "17                0.019  \n",
       "18                0.019  \n",
       "19                0.009  "
      ]
     },
     "execution_count": 72,
     "metadata": {},
     "output_type": "execute_result"
    }
   ],
   "source": [
    "\n",
    "metrics = []\n",
    "\n",
    "# loop through different values of k\n",
    "for k in range(1, 21):\n",
    "            \n",
    "    # define the thing\n",
    "    knn = KNeighborsClassifier(n_neighbors=k)\n",
    "    \n",
    "    # fit the thing (remmeber only fit on training data)\n",
    "    knn.fit(X_train, y_train)\n",
    "    \n",
    "    y_predictions = knn.predict(X_train)\n",
    "    y_pred = knn.predict(X_validate)\n",
    "    # use the thing (calculate accuracy)\n",
    "    train_accuracy = round(knn.score(X_train, y_train),3)\n",
    "    validate_accuracy = round(knn.score(X_validate, y_validate),3)\n",
    "    train_recall = round(sklearn.metrics.recall_score(y_train, y_predictions, pos_label =0),3)\n",
    "    validate_recall = round(sklearn.metrics.recall_score(y_validate, y_pred, pos_label =0),3)\n",
    "    output = {\n",
    "        \"k\": k,\n",
    "        \"train_accuracy\": train_accuracy,\n",
    "        \"validate_accuracy\": validate_accuracy,\n",
    "        'train_recall':train_recall,\n",
    "        \"validate_recall\":validate_recall\n",
    "    }\n",
    "    \n",
    "    metrics.append(output)\n",
    "\n",
    "# make a dataframe\n",
    "\n",
    "results = pd.DataFrame(metrics)\n",
    "results[\"accuracy_difference\"] = results.train_accuracy - results.validate_accuracy\n",
    "results"
   ]
  },
  {
   "cell_type": "markdown",
   "id": "94246572",
   "metadata": {},
   "source": [
    "### Decision tree Classifier"
   ]
  },
  {
   "cell_type": "code",
   "execution_count": 77,
   "id": "aeb4764d",
   "metadata": {},
   "outputs": [
    {
     "data": {
      "text/html": [
       "<div>\n",
       "<style scoped>\n",
       "    .dataframe tbody tr th:only-of-type {\n",
       "        vertical-align: middle;\n",
       "    }\n",
       "\n",
       "    .dataframe tbody tr th {\n",
       "        vertical-align: top;\n",
       "    }\n",
       "\n",
       "    .dataframe thead th {\n",
       "        text-align: right;\n",
       "    }\n",
       "</style>\n",
       "<table border=\"1\" class=\"dataframe\">\n",
       "  <thead>\n",
       "    <tr style=\"text-align: right;\">\n",
       "      <th></th>\n",
       "      <th>max_depth</th>\n",
       "      <th>train_accuracy</th>\n",
       "      <th>validate_accuracy</th>\n",
       "      <th>train_recall</th>\n",
       "      <th>validate_recall</th>\n",
       "      <th>accuracy_difference</th>\n",
       "    </tr>\n",
       "  </thead>\n",
       "  <tbody>\n",
       "    <tr>\n",
       "      <th>0</th>\n",
       "      <td>2</td>\n",
       "      <td>0.745</td>\n",
       "      <td>0.743</td>\n",
       "      <td>0.755</td>\n",
       "      <td>0.750</td>\n",
       "      <td>0.002</td>\n",
       "    </tr>\n",
       "    <tr>\n",
       "      <th>1</th>\n",
       "      <td>3</td>\n",
       "      <td>0.787</td>\n",
       "      <td>0.772</td>\n",
       "      <td>0.934</td>\n",
       "      <td>0.927</td>\n",
       "      <td>0.015</td>\n",
       "    </tr>\n",
       "    <tr>\n",
       "      <th>2</th>\n",
       "      <td>4</td>\n",
       "      <td>0.788</td>\n",
       "      <td>0.771</td>\n",
       "      <td>0.934</td>\n",
       "      <td>0.925</td>\n",
       "      <td>0.017</td>\n",
       "    </tr>\n",
       "    <tr>\n",
       "      <th>3</th>\n",
       "      <td>5</td>\n",
       "      <td>0.809</td>\n",
       "      <td>0.787</td>\n",
       "      <td>0.936</td>\n",
       "      <td>0.928</td>\n",
       "      <td>0.022</td>\n",
       "    </tr>\n",
       "    <tr>\n",
       "      <th>4</th>\n",
       "      <td>6</td>\n",
       "      <td>0.819</td>\n",
       "      <td>0.778</td>\n",
       "      <td>0.933</td>\n",
       "      <td>0.908</td>\n",
       "      <td>0.041</td>\n",
       "    </tr>\n",
       "    <tr>\n",
       "      <th>5</th>\n",
       "      <td>7</td>\n",
       "      <td>0.830</td>\n",
       "      <td>0.771</td>\n",
       "      <td>0.895</td>\n",
       "      <td>0.858</td>\n",
       "      <td>0.059</td>\n",
       "    </tr>\n",
       "    <tr>\n",
       "      <th>6</th>\n",
       "      <td>8</td>\n",
       "      <td>0.841</td>\n",
       "      <td>0.767</td>\n",
       "      <td>0.944</td>\n",
       "      <td>0.893</td>\n",
       "      <td>0.074</td>\n",
       "    </tr>\n",
       "    <tr>\n",
       "      <th>7</th>\n",
       "      <td>9</td>\n",
       "      <td>0.861</td>\n",
       "      <td>0.761</td>\n",
       "      <td>0.907</td>\n",
       "      <td>0.843</td>\n",
       "      <td>0.100</td>\n",
       "    </tr>\n",
       "    <tr>\n",
       "      <th>8</th>\n",
       "      <td>10</td>\n",
       "      <td>0.881</td>\n",
       "      <td>0.758</td>\n",
       "      <td>0.955</td>\n",
       "      <td>0.879</td>\n",
       "      <td>0.123</td>\n",
       "    </tr>\n",
       "    <tr>\n",
       "      <th>9</th>\n",
       "      <td>11</td>\n",
       "      <td>0.900</td>\n",
       "      <td>0.751</td>\n",
       "      <td>0.949</td>\n",
       "      <td>0.852</td>\n",
       "      <td>0.149</td>\n",
       "    </tr>\n",
       "    <tr>\n",
       "      <th>10</th>\n",
       "      <td>12</td>\n",
       "      <td>0.920</td>\n",
       "      <td>0.728</td>\n",
       "      <td>0.961</td>\n",
       "      <td>0.828</td>\n",
       "      <td>0.192</td>\n",
       "    </tr>\n",
       "    <tr>\n",
       "      <th>11</th>\n",
       "      <td>13</td>\n",
       "      <td>0.941</td>\n",
       "      <td>0.722</td>\n",
       "      <td>0.971</td>\n",
       "      <td>0.820</td>\n",
       "      <td>0.219</td>\n",
       "    </tr>\n",
       "    <tr>\n",
       "      <th>12</th>\n",
       "      <td>14</td>\n",
       "      <td>0.954</td>\n",
       "      <td>0.722</td>\n",
       "      <td>0.973</td>\n",
       "      <td>0.810</td>\n",
       "      <td>0.232</td>\n",
       "    </tr>\n",
       "    <tr>\n",
       "      <th>13</th>\n",
       "      <td>15</td>\n",
       "      <td>0.966</td>\n",
       "      <td>0.716</td>\n",
       "      <td>0.988</td>\n",
       "      <td>0.811</td>\n",
       "      <td>0.250</td>\n",
       "    </tr>\n",
       "    <tr>\n",
       "      <th>14</th>\n",
       "      <td>16</td>\n",
       "      <td>0.975</td>\n",
       "      <td>0.709</td>\n",
       "      <td>0.989</td>\n",
       "      <td>0.805</td>\n",
       "      <td>0.266</td>\n",
       "    </tr>\n",
       "    <tr>\n",
       "      <th>15</th>\n",
       "      <td>17</td>\n",
       "      <td>0.985</td>\n",
       "      <td>0.713</td>\n",
       "      <td>0.991</td>\n",
       "      <td>0.794</td>\n",
       "      <td>0.272</td>\n",
       "    </tr>\n",
       "    <tr>\n",
       "      <th>16</th>\n",
       "      <td>18</td>\n",
       "      <td>0.990</td>\n",
       "      <td>0.717</td>\n",
       "      <td>0.993</td>\n",
       "      <td>0.805</td>\n",
       "      <td>0.273</td>\n",
       "    </tr>\n",
       "    <tr>\n",
       "      <th>17</th>\n",
       "      <td>19</td>\n",
       "      <td>0.994</td>\n",
       "      <td>0.711</td>\n",
       "      <td>0.998</td>\n",
       "      <td>0.805</td>\n",
       "      <td>0.283</td>\n",
       "    </tr>\n",
       "    <tr>\n",
       "      <th>18</th>\n",
       "      <td>20</td>\n",
       "      <td>0.996</td>\n",
       "      <td>0.719</td>\n",
       "      <td>0.997</td>\n",
       "      <td>0.814</td>\n",
       "      <td>0.277</td>\n",
       "    </tr>\n",
       "    <tr>\n",
       "      <th>19</th>\n",
       "      <td>21</td>\n",
       "      <td>0.998</td>\n",
       "      <td>0.716</td>\n",
       "      <td>0.999</td>\n",
       "      <td>0.807</td>\n",
       "      <td>0.282</td>\n",
       "    </tr>\n",
       "  </tbody>\n",
       "</table>\n",
       "</div>"
      ],
      "text/plain": [
       "    max_depth  train_accuracy  validate_accuracy  train_recall  \\\n",
       "0           2           0.745              0.743         0.755   \n",
       "1           3           0.787              0.772         0.934   \n",
       "2           4           0.788              0.771         0.934   \n",
       "3           5           0.809              0.787         0.936   \n",
       "4           6           0.819              0.778         0.933   \n",
       "5           7           0.830              0.771         0.895   \n",
       "6           8           0.841              0.767         0.944   \n",
       "7           9           0.861              0.761         0.907   \n",
       "8          10           0.881              0.758         0.955   \n",
       "9          11           0.900              0.751         0.949   \n",
       "10         12           0.920              0.728         0.961   \n",
       "11         13           0.941              0.722         0.971   \n",
       "12         14           0.954              0.722         0.973   \n",
       "13         15           0.966              0.716         0.988   \n",
       "14         16           0.975              0.709         0.989   \n",
       "15         17           0.985              0.713         0.991   \n",
       "16         18           0.990              0.717         0.993   \n",
       "17         19           0.994              0.711         0.998   \n",
       "18         20           0.996              0.719         0.997   \n",
       "19         21           0.998              0.716         0.999   \n",
       "\n",
       "    validate_recall  accuracy_difference  \n",
       "0             0.750                0.002  \n",
       "1             0.927                0.015  \n",
       "2             0.925                0.017  \n",
       "3             0.928                0.022  \n",
       "4             0.908                0.041  \n",
       "5             0.858                0.059  \n",
       "6             0.893                0.074  \n",
       "7             0.843                0.100  \n",
       "8             0.879                0.123  \n",
       "9             0.852                0.149  \n",
       "10            0.828                0.192  \n",
       "11            0.820                0.219  \n",
       "12            0.810                0.232  \n",
       "13            0.811                0.250  \n",
       "14            0.805                0.266  \n",
       "15            0.794                0.272  \n",
       "16            0.805                0.273  \n",
       "17            0.805                0.283  \n",
       "18            0.814                0.277  \n",
       "19            0.807                0.282  "
      ]
     },
     "execution_count": 77,
     "metadata": {},
     "output_type": "execute_result"
    }
   ],
   "source": [
    "\n",
    "## Create a for loop that creates 20 decision tree models with increasingly larger depths.\n",
    "metrics = []\n",
    "tree_models = []\n",
    "for i in range(2, 22):\n",
    "    # Make the model\n",
    "    tree = DecisionTreeClassifier(max_depth=i, random_state=123)\n",
    "\n",
    "    # Fit the model (on train and only train)\n",
    "    tree = tree.fit(X_train, y_train)\n",
    "    y_predictions = tree.predict(X_train)\n",
    "    y_pred = tree.predict(X_validate)\n",
    "    # Use the model\n",
    "    in_sample_accuracy = round(tree.score(X_train, y_train),3)\n",
    "    \n",
    "    out_of_sample_accuracy = round(tree.score(X_validate, y_validate),3)\n",
    "    \n",
    "    in_sample_recall = round(sklearn.metrics.recall_score(y_train, y_predictions, pos_label =0),3)\n",
    "    \n",
    "    out_of_sample_recall = round(sklearn.metrics.recall_score(y_validate, y_pred, pos_label =0),3)\n",
    "    output = {\n",
    "        \"max_depth\": i,\n",
    "        \"train_accuracy\": in_sample_accuracy,\n",
    "        \"validate_accuracy\": out_of_sample_accuracy,\n",
    "        \"train_recall\": in_sample_recall,\n",
    "        \"validate_recall\": out_of_sample_recall\n",
    "    }\n",
    "    \n",
    "    # This creates the df below\n",
    "    metrics.append(output)\n",
    "    # tree_models will store all of my tree models incase i want them later\n",
    "    tree_models.append(tree)\n",
    "    \n",
    "tree_df = pd.DataFrame(metrics)\n",
    "tree_df[\"accuracy_difference\"] = tree_df.train_accuracy - tree_df.validate_accuracy\n",
    "tree_df"
   ]
  },
  {
   "cell_type": "markdown",
   "id": "8fa4a191",
   "metadata": {},
   "source": [
    "### Random Forest"
   ]
  },
  {
   "cell_type": "code",
   "execution_count": 79,
   "id": "bdebdb0e",
   "metadata": {},
   "outputs": [
    {
     "data": {
      "text/html": [
       "<div>\n",
       "<style scoped>\n",
       "    .dataframe tbody tr th:only-of-type {\n",
       "        vertical-align: middle;\n",
       "    }\n",
       "\n",
       "    .dataframe tbody tr th {\n",
       "        vertical-align: top;\n",
       "    }\n",
       "\n",
       "    .dataframe thead th {\n",
       "        text-align: right;\n",
       "    }\n",
       "</style>\n",
       "<table border=\"1\" class=\"dataframe\">\n",
       "  <thead>\n",
       "    <tr style=\"text-align: right;\">\n",
       "      <th></th>\n",
       "      <th>train_accuracy</th>\n",
       "      <th>validate_accuracy</th>\n",
       "      <th>difference</th>\n",
       "    </tr>\n",
       "    <tr>\n",
       "      <th>max_depth</th>\n",
       "      <th></th>\n",
       "      <th></th>\n",
       "      <th></th>\n",
       "    </tr>\n",
       "  </thead>\n",
       "  <tbody>\n",
       "    <tr>\n",
       "      <th>1</th>\n",
       "      <td>0.734315</td>\n",
       "      <td>0.734005</td>\n",
       "      <td>0.000</td>\n",
       "    </tr>\n",
       "    <tr>\n",
       "      <th>2</th>\n",
       "      <td>0.742443</td>\n",
       "      <td>0.743483</td>\n",
       "      <td>-0.001</td>\n",
       "    </tr>\n",
       "    <tr>\n",
       "      <th>3</th>\n",
       "      <td>0.796038</td>\n",
       "      <td>0.784360</td>\n",
       "      <td>0.012</td>\n",
       "    </tr>\n",
       "    <tr>\n",
       "      <th>4</th>\n",
       "      <td>0.799848</td>\n",
       "      <td>0.785545</td>\n",
       "      <td>0.014</td>\n",
       "    </tr>\n",
       "    <tr>\n",
       "      <th>5</th>\n",
       "      <td>0.811532</td>\n",
       "      <td>0.795024</td>\n",
       "      <td>0.017</td>\n",
       "    </tr>\n",
       "    <tr>\n",
       "      <th>6</th>\n",
       "      <td>0.818644</td>\n",
       "      <td>0.799763</td>\n",
       "      <td>0.019</td>\n",
       "    </tr>\n",
       "    <tr>\n",
       "      <th>7</th>\n",
       "      <td>0.833884</td>\n",
       "      <td>0.801540</td>\n",
       "      <td>0.032</td>\n",
       "    </tr>\n",
       "    <tr>\n",
       "      <th>8</th>\n",
       "      <td>0.852172</td>\n",
       "      <td>0.796801</td>\n",
       "      <td>0.055</td>\n",
       "    </tr>\n",
       "    <tr>\n",
       "      <th>9</th>\n",
       "      <td>0.872746</td>\n",
       "      <td>0.793246</td>\n",
       "      <td>0.079</td>\n",
       "    </tr>\n",
       "    <tr>\n",
       "      <th>10</th>\n",
       "      <td>0.903988</td>\n",
       "      <td>0.789692</td>\n",
       "      <td>0.114</td>\n",
       "    </tr>\n",
       "  </tbody>\n",
       "</table>\n",
       "</div>"
      ],
      "text/plain": [
       "           train_accuracy  validate_accuracy  difference\n",
       "max_depth                                               \n",
       "1                0.734315           0.734005       0.000\n",
       "2                0.742443           0.743483      -0.001\n",
       "3                0.796038           0.784360       0.012\n",
       "4                0.799848           0.785545       0.014\n",
       "5                0.811532           0.795024       0.017\n",
       "6                0.818644           0.799763       0.019\n",
       "7                0.833884           0.801540       0.032\n",
       "8                0.852172           0.796801       0.055\n",
       "9                0.872746           0.793246       0.079\n",
       "10               0.903988           0.789692       0.114"
      ]
     },
     "execution_count": 79,
     "metadata": {},
     "output_type": "execute_result"
    },
    {
     "data": {
      "image/png": "[encoded data removed]",
      "text/plain": [
       "<Figure size 864x288 with 1 Axes>"
      ]
     },
     "metadata": {
      "needs_background": "light"
     },
     "output_type": "display_data"
    }
   ],
   "source": [
    "metrics = []\n",
    "\n",
    "for i in range(1, 11):\n",
    "    # Make the model\n",
    "    forest = RandomForestClassifier(max_depth=i, random_state=123)\n",
    "\n",
    "    # Fit the model (on train and only train)\n",
    "    forest = forest.fit(X_train, y_train)\n",
    "\n",
    "    # Use the model\n",
    "    # We'll evaluate the model's performance on train, first\n",
    "    in_sample_accuracy = forest.score(X_train, y_train)\n",
    "    \n",
    "    out_of_sample_accuracy = forest.score(X_validate, y_validate)\n",
    "\n",
    "    output = {\n",
    "        \"max_depth\": i,\n",
    "        \"train_accuracy\": in_sample_accuracy,\n",
    "        \"validate_accuracy\": out_of_sample_accuracy\n",
    "    }\n",
    "    \n",
    "    metrics.append(output)\n",
    "    \n",
    "df = pd.DataFrame(metrics)\n",
    "\n",
    "# plot the data\n",
    "df.set_index('max_depth', inplace=True)\n",
    "df.plot(figsize = (12,4))\n",
    "plt.ylabel('Accuracy')\n",
    "plt.xticks(np.arange(0,11,1))\n",
    "plt.grid(b=True)\n",
    "\n",
    "df[\"difference\"] = round(df.train_accuracy - df.validate_accuracy, 3)\n",
    "df"
   ]
  },
  {
   "cell_type": "code",
   "execution_count": null,
   "id": "0320fb97",
   "metadata": {},
   "outputs": [],
   "source": []
  },
  {
   "cell_type": "markdown",
   "id": "d645d45f",
   "metadata": {},
   "source": [
    "Reading in a new spreadsheet with my adjusted monthly charges from last project"
   ]
  },
  {
   "cell_type": "code",
   "execution_count": 73,
   "id": "5f9eb023",
   "metadata": {},
   "outputs": [],
   "source": [
    "df2 = pd.read_csv('mytable_customer_details_final - CustDetails_with_adjusted_monthly.csv')"
   ]
  },
  {
   "cell_type": "code",
   "execution_count": 74,
   "id": "ef8c3815",
   "metadata": {},
   "outputs": [
    {
     "data": {
      "text/html": [
       "<div>\n",
       "<style scoped>\n",
       "    .dataframe tbody tr th:only-of-type {\n",
       "        vertical-align: middle;\n",
       "    }\n",
       "\n",
       "    .dataframe tbody tr th {\n",
       "        vertical-align: top;\n",
       "    }\n",
       "\n",
       "    .dataframe thead th {\n",
       "        text-align: right;\n",
       "    }\n",
       "</style>\n",
       "<table border=\"1\" class=\"dataframe\">\n",
       "  <thead>\n",
       "    <tr style=\"text-align: right;\">\n",
       "      <th></th>\n",
       "      <th>customer_id</th>\n",
       "      <th>gender</th>\n",
       "      <th>is_female</th>\n",
       "      <th>is_senior_citizen</th>\n",
       "      <th>partner</th>\n",
       "      <th>dependents</th>\n",
       "      <th>partner_dependents</th>\n",
       "      <th>phone_service</th>\n",
       "      <th>has_phone</th>\n",
       "      <th>internet_service</th>\n",
       "      <th>...</th>\n",
       "      <th>churn</th>\n",
       "      <th>has_churned</th>\n",
       "      <th>tenure</th>\n",
       "      <th>start_date</th>\n",
       "      <th>adjusted_monthly</th>\n",
       "      <th>avg_monthly_charges</th>\n",
       "      <th>contract_type.1</th>\n",
       "      <th>phone_service.1</th>\n",
       "      <th>internet_service.1</th>\n",
       "      <th>service_type</th>\n",
       "    </tr>\n",
       "  </thead>\n",
       "  <tbody>\n",
       "    <tr>\n",
       "      <th>0</th>\n",
       "      <td>0023-HGHWL</td>\n",
       "      <td>Male</td>\n",
       "      <td>False</td>\n",
       "      <td>1</td>\n",
       "      <td>No</td>\n",
       "      <td>No</td>\n",
       "      <td>0</td>\n",
       "      <td>0</td>\n",
       "      <td>False</td>\n",
       "      <td>1</td>\n",
       "      <td>...</td>\n",
       "      <td>Yes</td>\n",
       "      <td>True</td>\n",
       "      <td>1</td>\n",
       "      <td>2021-08-07</td>\n",
       "      <td>$25.10</td>\n",
       "      <td>$25.10</td>\n",
       "      <td>Month-to-Month</td>\n",
       "      <td>No Phone Service</td>\n",
       "      <td>DSL</td>\n",
       "      <td>internet_only</td>\n",
       "    </tr>\n",
       "    <tr>\n",
       "      <th>1</th>\n",
       "      <td>0056-EPFBG</td>\n",
       "      <td>Male</td>\n",
       "      <td>False</td>\n",
       "      <td>1</td>\n",
       "      <td>No</td>\n",
       "      <td>No</td>\n",
       "      <td>0</td>\n",
       "      <td>1</td>\n",
       "      <td>True</td>\n",
       "      <td>1</td>\n",
       "      <td>...</td>\n",
       "      <td>Yes</td>\n",
       "      <td>True</td>\n",
       "      <td>1</td>\n",
       "      <td>2021-08-07</td>\n",
       "      <td>$91.10</td>\n",
       "      <td>$91.10</td>\n",
       "      <td>Month-to-Month</td>\n",
       "      <td>One Line</td>\n",
       "      <td>DSL</td>\n",
       "      <td>phone_and_internet</td>\n",
       "    </tr>\n",
       "    <tr>\n",
       "      <th>2</th>\n",
       "      <td>0071-NDAFP</td>\n",
       "      <td>Male</td>\n",
       "      <td>False</td>\n",
       "      <td>0</td>\n",
       "      <td>No</td>\n",
       "      <td>No</td>\n",
       "      <td>0</td>\n",
       "      <td>1</td>\n",
       "      <td>True</td>\n",
       "      <td>1</td>\n",
       "      <td>...</td>\n",
       "      <td>No</td>\n",
       "      <td>False</td>\n",
       "      <td>1</td>\n",
       "      <td>2021-08-07</td>\n",
       "      <td>$44.30</td>\n",
       "      <td>$44.30</td>\n",
       "      <td>Month-to-Month</td>\n",
       "      <td>One Line</td>\n",
       "      <td>DSL</td>\n",
       "      <td>phone_and_internet</td>\n",
       "    </tr>\n",
       "    <tr>\n",
       "      <th>3</th>\n",
       "      <td>0236-HFWSV</td>\n",
       "      <td>Female</td>\n",
       "      <td>True</td>\n",
       "      <td>0</td>\n",
       "      <td>No</td>\n",
       "      <td>No</td>\n",
       "      <td>0</td>\n",
       "      <td>2</td>\n",
       "      <td>True</td>\n",
       "      <td>1</td>\n",
       "      <td>...</td>\n",
       "      <td>No</td>\n",
       "      <td>False</td>\n",
       "      <td>1</td>\n",
       "      <td>2021-08-07</td>\n",
       "      <td>$50.10</td>\n",
       "      <td>$50.10</td>\n",
       "      <td>Month-to-Month</td>\n",
       "      <td>Two or More Lines</td>\n",
       "      <td>DSL</td>\n",
       "      <td>phone_and_internet</td>\n",
       "    </tr>\n",
       "    <tr>\n",
       "      <th>4</th>\n",
       "      <td>0315-LVCRK</td>\n",
       "      <td>Male</td>\n",
       "      <td>False</td>\n",
       "      <td>0</td>\n",
       "      <td>No</td>\n",
       "      <td>No</td>\n",
       "      <td>0</td>\n",
       "      <td>1</td>\n",
       "      <td>True</td>\n",
       "      <td>1</td>\n",
       "      <td>...</td>\n",
       "      <td>Yes</td>\n",
       "      <td>True</td>\n",
       "      <td>1</td>\n",
       "      <td>2021-08-07</td>\n",
       "      <td>$89.50</td>\n",
       "      <td>$89.50</td>\n",
       "      <td>Month-to-Month</td>\n",
       "      <td>One Line</td>\n",
       "      <td>DSL</td>\n",
       "      <td>phone_and_internet</td>\n",
       "    </tr>\n",
       "  </tbody>\n",
       "</table>\n",
       "<p>5 rows × 26 columns</p>\n",
       "</div>"
      ],
      "text/plain": [
       "  customer_id  gender  is_female  is_senior_citizen partner dependents  \\\n",
       "0  0023-HGHWL    Male      False                  1      No         No   \n",
       "1  0056-EPFBG    Male      False                  1      No         No   \n",
       "2  0071-NDAFP    Male      False                  0      No         No   \n",
       "3  0236-HFWSV  Female       True                  0      No         No   \n",
       "4  0315-LVCRK    Male      False                  0      No         No   \n",
       "\n",
       "   partner_dependents  phone_service  has_phone  internet_service  ...  churn  \\\n",
       "0                   0              0      False                 1  ...    Yes   \n",
       "1                   0              1       True                 1  ...    Yes   \n",
       "2                   0              1       True                 1  ...     No   \n",
       "3                   0              2       True                 1  ...     No   \n",
       "4                   0              1       True                 1  ...    Yes   \n",
       "\n",
       "   has_churned  tenure  start_date adjusted_monthly avg_monthly_charges  \\\n",
       "0         True       1  2021-08-07           $25.10              $25.10   \n",
       "1         True       1  2021-08-07           $91.10              $91.10   \n",
       "2        False       1  2021-08-07           $44.30              $44.30   \n",
       "3        False       1  2021-08-07           $50.10              $50.10   \n",
       "4         True       1  2021-08-07           $89.50              $89.50   \n",
       "\n",
       "  contract_type.1    phone_service.1  internet_service.1        service_type  \n",
       "0  Month-to-Month   No Phone Service                 DSL       internet_only  \n",
       "1  Month-to-Month           One Line                 DSL  phone_and_internet  \n",
       "2  Month-to-Month           One Line                 DSL  phone_and_internet  \n",
       "3  Month-to-Month  Two or More Lines                 DSL  phone_and_internet  \n",
       "4  Month-to-Month           One Line                 DSL  phone_and_internet  \n",
       "\n",
       "[5 rows x 26 columns]"
      ]
     },
     "execution_count": 74,
     "metadata": {},
     "output_type": "execute_result"
    }
   ],
   "source": [
    "df2.head()"
   ]
  },
  {
   "cell_type": "code",
   "execution_count": 75,
   "id": "bb7fd310",
   "metadata": {},
   "outputs": [],
   "source": [
    "for column in df2.columns:\n",
    "    if df2[column].dtype == np.number:\n",
    "        continue\n",
    "    df2[column] = LabelEncoder().fit_transform(df2[column])"
   ]
  },
  {
   "cell_type": "code",
   "execution_count": 76,
   "id": "c74dcb42",
   "metadata": {},
   "outputs": [
    {
     "data": {
      "text/html": [
       "<div>\n",
       "<style scoped>\n",
       "    .dataframe tbody tr th:only-of-type {\n",
       "        vertical-align: middle;\n",
       "    }\n",
       "\n",
       "    .dataframe tbody tr th {\n",
       "        vertical-align: top;\n",
       "    }\n",
       "\n",
       "    .dataframe thead th {\n",
       "        text-align: right;\n",
       "    }\n",
       "</style>\n",
       "<table border=\"1\" class=\"dataframe\">\n",
       "  <thead>\n",
       "    <tr style=\"text-align: right;\">\n",
       "      <th></th>\n",
       "      <th>customer_id</th>\n",
       "      <th>gender</th>\n",
       "      <th>is_female</th>\n",
       "      <th>is_senior_citizen</th>\n",
       "      <th>partner</th>\n",
       "      <th>dependents</th>\n",
       "      <th>partner_dependents</th>\n",
       "      <th>phone_service</th>\n",
       "      <th>has_phone</th>\n",
       "      <th>internet_service</th>\n",
       "      <th>...</th>\n",
       "      <th>churn</th>\n",
       "      <th>has_churned</th>\n",
       "      <th>tenure</th>\n",
       "      <th>start_date</th>\n",
       "      <th>adjusted_monthly</th>\n",
       "      <th>avg_monthly_charges</th>\n",
       "      <th>contract_type.1</th>\n",
       "      <th>phone_service.1</th>\n",
       "      <th>internet_service.1</th>\n",
       "      <th>service_type</th>\n",
       "    </tr>\n",
       "  </thead>\n",
       "  <tbody>\n",
       "    <tr>\n",
       "      <th>0</th>\n",
       "      <td>19</td>\n",
       "      <td>1</td>\n",
       "      <td>0</td>\n",
       "      <td>1</td>\n",
       "      <td>0</td>\n",
       "      <td>0</td>\n",
       "      <td>0</td>\n",
       "      <td>0</td>\n",
       "      <td>0</td>\n",
       "      <td>1</td>\n",
       "      <td>...</td>\n",
       "      <td>1</td>\n",
       "      <td>1</td>\n",
       "      <td>0</td>\n",
       "      <td>77</td>\n",
       "      <td>498</td>\n",
       "      <td>1298</td>\n",
       "      <td>2</td>\n",
       "      <td>0</td>\n",
       "      <td>0</td>\n",
       "      <td>0</td>\n",
       "    </tr>\n",
       "    <tr>\n",
       "      <th>1</th>\n",
       "      <td>34</td>\n",
       "      <td>1</td>\n",
       "      <td>0</td>\n",
       "      <td>1</td>\n",
       "      <td>0</td>\n",
       "      <td>0</td>\n",
       "      <td>0</td>\n",
       "      <td>1</td>\n",
       "      <td>1</td>\n",
       "      <td>1</td>\n",
       "      <td>...</td>\n",
       "      <td>1</td>\n",
       "      <td>1</td>\n",
       "      <td>0</td>\n",
       "      <td>77</td>\n",
       "      <td>3754</td>\n",
       "      <td>3886</td>\n",
       "      <td>2</td>\n",
       "      <td>1</td>\n",
       "      <td>0</td>\n",
       "      <td>1</td>\n",
       "    </tr>\n",
       "    <tr>\n",
       "      <th>2</th>\n",
       "      <td>42</td>\n",
       "      <td>1</td>\n",
       "      <td>0</td>\n",
       "      <td>0</td>\n",
       "      <td>0</td>\n",
       "      <td>0</td>\n",
       "      <td>0</td>\n",
       "      <td>1</td>\n",
       "      <td>1</td>\n",
       "      <td>1</td>\n",
       "      <td>...</td>\n",
       "      <td>0</td>\n",
       "      <td>0</td>\n",
       "      <td>0</td>\n",
       "      <td>77</td>\n",
       "      <td>935</td>\n",
       "      <td>1735</td>\n",
       "      <td>2</td>\n",
       "      <td>1</td>\n",
       "      <td>0</td>\n",
       "      <td>1</td>\n",
       "    </tr>\n",
       "    <tr>\n",
       "      <th>3</th>\n",
       "      <td>143</td>\n",
       "      <td>0</td>\n",
       "      <td>1</td>\n",
       "      <td>0</td>\n",
       "      <td>0</td>\n",
       "      <td>0</td>\n",
       "      <td>0</td>\n",
       "      <td>2</td>\n",
       "      <td>1</td>\n",
       "      <td>1</td>\n",
       "      <td>...</td>\n",
       "      <td>0</td>\n",
       "      <td>0</td>\n",
       "      <td>0</td>\n",
       "      <td>77</td>\n",
       "      <td>1145</td>\n",
       "      <td>1933</td>\n",
       "      <td>2</td>\n",
       "      <td>2</td>\n",
       "      <td>0</td>\n",
       "      <td>1</td>\n",
       "    </tr>\n",
       "    <tr>\n",
       "      <th>4</th>\n",
       "      <td>200</td>\n",
       "      <td>1</td>\n",
       "      <td>0</td>\n",
       "      <td>0</td>\n",
       "      <td>0</td>\n",
       "      <td>0</td>\n",
       "      <td>0</td>\n",
       "      <td>1</td>\n",
       "      <td>1</td>\n",
       "      <td>1</td>\n",
       "      <td>...</td>\n",
       "      <td>1</td>\n",
       "      <td>1</td>\n",
       "      <td>0</td>\n",
       "      <td>77</td>\n",
       "      <td>3663</td>\n",
       "      <td>3785</td>\n",
       "      <td>2</td>\n",
       "      <td>1</td>\n",
       "      <td>0</td>\n",
       "      <td>1</td>\n",
       "    </tr>\n",
       "  </tbody>\n",
       "</table>\n",
       "<p>5 rows × 26 columns</p>\n",
       "</div>"
      ],
      "text/plain": [
       "   customer_id  gender  is_female  is_senior_citizen  partner  dependents  \\\n",
       "0           19       1          0                  1        0           0   \n",
       "1           34       1          0                  1        0           0   \n",
       "2           42       1          0                  0        0           0   \n",
       "3          143       0          1                  0        0           0   \n",
       "4          200       1          0                  0        0           0   \n",
       "\n",
       "   partner_dependents  phone_service  has_phone  internet_service  ...  churn  \\\n",
       "0                   0              0          0                 1  ...      1   \n",
       "1                   0              1          1                 1  ...      1   \n",
       "2                   0              1          1                 1  ...      0   \n",
       "3                   0              2          1                 1  ...      0   \n",
       "4                   0              1          1                 1  ...      1   \n",
       "\n",
       "   has_churned  tenure  start_date  adjusted_monthly  avg_monthly_charges  \\\n",
       "0            1       0          77               498                 1298   \n",
       "1            1       0          77              3754                 3886   \n",
       "2            0       0          77               935                 1735   \n",
       "3            0       0          77              1145                 1933   \n",
       "4            1       0          77              3663                 3785   \n",
       "\n",
       "   contract_type.1  phone_service.1  internet_service.1  service_type  \n",
       "0                2                0                   0             0  \n",
       "1                2                1                   0             1  \n",
       "2                2                1                   0             1  \n",
       "3                2                2                   0             1  \n",
       "4                2                1                   0             1  \n",
       "\n",
       "[5 rows x 26 columns]"
      ]
     },
     "execution_count": 76,
     "metadata": {},
     "output_type": "execute_result"
    }
   ],
   "source": [
    "df2.head()"
   ]
  }
 ],
 "metadata": {
  "kernelspec": {
   "display_name": "Python 3",
   "language": "python",
   "name": "python3"
  },
  "language_info": {
   "codemirror_mode": {
    "name": "ipython",
    "version": 3
   },
   "file_extension": ".py",
   "mimetype": "text/x-python",
   "name": "python",
   "nbconvert_exporter": "python",
   "pygments_lexer": "ipython3",
   "version": "3.8.8"
  }
 },
 "nbformat": 4,
 "nbformat_minor": 5
}
